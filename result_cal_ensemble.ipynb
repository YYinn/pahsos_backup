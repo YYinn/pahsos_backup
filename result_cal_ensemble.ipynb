{
 "cells": [
  {
   "cell_type": "code",
   "execution_count": 11,
   "metadata": {},
   "outputs": [],
   "source": [
    "import pandas as pd\n",
    "import numpy as np\n",
    "from sklearn.metrics import (accuracy_score, f1_score, precision_score,\n",
    "                             recall_score, roc_auc_score, cohen_kappa_score, precision_recall_curve)\n",
    "import matplotlib.pyplot as plt\n",
    "from sklearn.metrics import roc_curve\n",
    "from sklearn.metrics import confusion_matrix\n",
    "from scipy.stats import norm\n",
    "\n"
   ]
  },
  {
   "cell_type": "code",
   "execution_count": 12,
   "metadata": {},
   "outputs": [],
   "source": [
    "## function\n",
    "\n",
    "def AUC_CI(auc, label, alpha = 0.05):\n",
    "    label = np.array(label)#防止label不是array类型\n",
    "    n1, n2 = np.sum(label == 1), np.sum(label == 0)\n",
    "    q1 = auc / (2-auc)\n",
    "    q2 = (2 * auc ** 2) / (1 + auc)\n",
    "    se = np.sqrt((auc * (1 - auc) + (n1 - 1) * (q1 - auc ** 2) + (n2 -1) * (q2 - auc ** 2)) / (n1 * n2))\n",
    "    confidence_level = 1 - alpha\n",
    "    z_lower, z_upper = norm.interval(confidence_level)\n",
    "    lowerb, upperb = auc + z_lower * se, auc + z_upper * se\n",
    "    return (lowerb, upperb)\n",
    "\n",
    "\n",
    "def Find_Optimal_Cutoff(TPR, FPR, threshold):\n",
    "    y = TPR - FPR\n",
    "\n",
    "    Youden_index = np.argmax(y)  # Only the first occurrence is returned.\n",
    "\n",
    "    optimal_threshold = threshold[Youden_index]\n",
    "    point = [FPR[Youden_index], TPR[Youden_index]]\n",
    "    return optimal_threshold, point\n",
    "\n",
    "def Find_Optimal_Cutoff_bythresh(patient_avg_pred_all, patient_label_all, thresholds):\n",
    "    youden_max = 0\n",
    "    best_thresh = -1\n",
    "    for i in range(thresholds.shape[0]):\n",
    "        \n",
    "        try_thresh = thresholds[i]\n",
    "\n",
    "        opt_bi_pred = np.zeros_like(patient_avg_pred_all)\n",
    "        opt_bi_pred[patient_avg_pred_all > try_thresh] = 1\n",
    "        # opt_bi_pred[patient_avg_pred_all <= try_thresh] = 0\n",
    "\n",
    "        opt_rec = recall_score(patient_label_all, opt_bi_pred)\n",
    "        opt_confuse = confusion_matrix(patient_label_all, opt_bi_pred, labels=[1,0])\n",
    "        opt_spc = opt_confuse[1, 1]/(opt_confuse[1, 0] + opt_confuse[1, 1])\n",
    "\n",
    "        \n",
    "        fpr = 1 - opt_spc\n",
    "        tpr = opt_rec\n",
    "\n",
    "        if 1-tpr == 0 :\n",
    "            continue\n",
    "            \n",
    "        youden_index  = tpr - fpr\n",
    "        # print(try_thresh, youden_index, opt_confuse[0, 0], opt_confuse[0, 1], opt_confuse[1, 0], opt_confuse[1, 1])\n",
    "\n",
    "        if youden_index > youden_max:\n",
    "            youden_max = youden_index\n",
    "            best_thresh = try_thresh\n",
    "    return youden_max, best_thresh\n",
    "\n",
    "def opt_auc_save_patient(test_log_dir, fold, label, predict, curve_auc):\n",
    "\n",
    "    fpr, tpr, _ = roc_curve(label, predict)\n",
    "    ## opt AUC curve\n",
    "    line_width = 1  # 曲线的宽度\n",
    "    print(f'AUC = {round(curve_auc, 4)}')\n",
    "    plt.figure(figsize=(8, 5))  # 图的大小\n",
    "    plt.plot(fpr, tpr, lw=line_width, label=f'AUC = {round(curve_auc, 4)}', color='red')\n",
    "    plt.plot([0, 1], [0, 1], linestyle=\"--\")\n",
    "    plt.savefig(f'{test_log_dir}patientlevel_ROC_fold{fold}.jpg' , dpi=256)#bbox_inches='tight', pad_inches=0, "
   ]
  },
  {
   "cell_type": "markdown",
   "metadata": {},
   "source": [
    "# Patient level evaluation for each folds"
   ]
  },
  {
   "cell_type": "code",
   "execution_count": 13,
   "metadata": {},
   "outputs": [
    {
     "name": "stdout",
     "output_type": "stream",
     "text": [
      "Doing -- /mnt/ExtData/workspace/pahsos/classification/log/block64_new_2023-03-08T21:35:22/test_bestacc_2023-09-27T11:00:25\n",
      "AUC of fold 0: 0.978448275862069\n",
      "AUC of fold 1: 0.9655172413793104\n",
      "AUC of fold 2: 0.9612068965517242\n",
      "AUC of fold 3: 0.9698275862068966\n",
      "AUC of fold 4: 0.9698275862068966\n",
      "Doing -- /mnt/ExtData/workspace/pahsos/classification/log/block96_new_2023-03-09T15:40:03/test_bestacc_2023-09-27T11:00:30\n",
      "AUC of fold 0: 0.9698275862068966\n",
      "AUC of fold 1: 0.9612068965517241\n",
      "AUC of fold 2: 0.9870689655172414\n",
      "AUC of fold 3: 0.9482758620689654\n",
      "AUC of fold 4: 0.9741379310344828\n",
      "Doing -- /mnt/ExtData/workspace/pahsos/classification/log/block128_new_2023-03-10T14:09:58/test_bestacc_2023-09-27T11:00:37\n",
      "AUC of fold 0: 0.9655172413793104\n",
      "AUC of fold 1: 0.9612068965517241\n",
      "AUC of fold 2: 0.9870689655172414\n",
      "AUC of fold 3: 0.9482758620689655\n",
      "AUC of fold 4: 0.9568965517241379\n",
      "Doing -- /mnt/ExtData/workspace/pahsos/classification/log/block160_new_2023-03-10T23:36:42/test_bestacc_2023-09-27T11:00:43\n",
      "AUC of fold 0: 0.9525862068965517\n",
      "AUC of fold 1: 0.9612068965517242\n",
      "AUC of fold 2: 0.9655172413793104\n",
      "AUC of fold 3: 0.978448275862069\n",
      "AUC of fold 4: 0.9612068965517242\n"
     ]
    }
   ],
   "source": [
    "eval = 'acc'\n",
    "exp_name_all = [\n",
    "            f'/mnt/ExtData/workspace/pahsos/classification/log/block64_new_2023-03-08T21:35:22/test_bestacc_2023-09-27T11:00:25', \\\n",
    "            f'/mnt/ExtData/workspace/pahsos/classification/log/block96_new_2023-03-09T15:40:03/test_bestacc_2023-09-27T11:00:30', \\\n",
    "            f'/mnt/ExtData/workspace/pahsos/classification/log/block128_new_2023-03-10T14:09:58/test_bestacc_2023-09-27T11:00:37', \\\n",
    "            f'/mnt/ExtData/workspace/pahsos/classification/log/block160_new_2023-03-10T23:36:42/test_bestacc_2023-09-27T11:00:43'\n",
    "            ]\n",
    "\n",
    "\n",
    "for exp_name in exp_name_all:\n",
    "    print(f'Doing -- {exp_name}')\n",
    "    path = f'{exp_name}/test_block_pred.csv'\n",
    "    df = pd.read_csv(path)\n",
    "    name = np.array(df['name'])\n",
    "    label = np.array(df['label'])\n",
    "    pred = np.stack((df['pred0'], df['pred1'], df['pred2'], df['pred3'], df['pred4']), axis=1)\n",
    "    all = np.array(df)\n",
    "\n",
    "    save_path = exp_name\n",
    "    for fold in range(5):\n",
    "\n",
    "        total_label = []\n",
    "        total_avg_predict = []\n",
    "        total_bi_avg_predict = []\n",
    "\n",
    "        f = open(f\"{exp_name}/test_patient_pred.txt\",\"a\") \n",
    "        if fold == 0:\n",
    "            f.write(f'fold, patient_name, patient_label, avg_pred\\r\\n')\n",
    "\n",
    "        for patient_num in range(int(len(name)/12)):\n",
    "            patient_label = label[int(patient_num*12)]\n",
    "            patient_name = name[int(patient_num*12)]\n",
    "\n",
    "            # 计算12个block概率值均值\n",
    "            avg_pred = 0\n",
    "            for block_num in range(12):\n",
    "                avg_pred += pred[patient_num*12 + block_num, fold]\n",
    "            avg_pred = avg_pred / 12\n",
    "\n",
    "            total_label.append(float(patient_label))\n",
    "            total_avg_predict.append(avg_pred)\n",
    "            # total_bi_avg_predict.append(binary_pred)\n",
    "            f.write(f'{fold}, {patient_name}, {patient_label}, {avg_pred}\\r\\n')\n",
    "        f.close()\n",
    "\n",
    "        total_label = np.array(total_label)\n",
    "        total_avg_predict = np.array(total_avg_predict)\n",
    "        total_bi_avg_predict = np.array(total_bi_avg_predict)\n",
    "\n",
    "        fold_auc = roc_auc_score(total_label, total_avg_predict)\n",
    "        print(f'AUC of fold {fold}: {fold_auc}')\n",
    "\n",
    "        f = open(f\"{exp_name}/test_patient_auc.txt\",\"a\") \n",
    "        f.write(f'fold {fold}: {fold_auc}\\r\\n')\n",
    "        f.close()\n",
    "    # break\n",
    "\n",
    "\n",
    "        \n",
    "    \n",
    "            # binary_pred : 使用0.5二值化均值\n",
    "            # if avg_pred >= 0.5:\n",
    "            #     binary_pred = 1\n",
    "            # else:\n",
    "            #     binary_pred = 0\n",
    "\n"
   ]
  },
  {
   "attachments": {},
   "cell_type": "markdown",
   "metadata": {},
   "source": [
    "# ensemble evaluation \n"
   ]
  },
  {
   "attachments": {},
   "cell_type": "markdown",
   "metadata": {},
   "source": [
    "### 1. 计算病人block预测概率均值\n",
    "\n"
   ]
  },
  {
   "cell_type": "markdown",
   "metadata": {},
   "source": [
    "\n",
    "- 读取test block级别预测概率 pred.csv\n",
    "\n",
    "- 读取根据val计算出的各个fold的最佳阈值 result.csv\n",
    "\n",
    "！ 请检查测试集数据没有被打乱且每个病人均有12个block，否则需要修改"
   ]
  },
  {
   "attachments": {},
   "cell_type": "markdown",
   "metadata": {},
   "source": [
    "### block level"
   ]
  },
  {
   "cell_type": "code",
   "execution_count": 14,
   "metadata": {},
   "outputs": [
    {
     "name": "stdout",
     "output_type": "stream",
     "text": [
      "Doing -- /mnt/ExtData/workspace/pahsos/classification/log/block64_new_2023-03-08T21:35:22/test_bestacc_2023-09-27T11:00:25\n",
      "auc : 0.9552502394636015, acc : 0.9099099099099099, rec : 0.75, spc : 0.9540229885057471\n",
      "Doing -- /mnt/ExtData/workspace/pahsos/classification/log/block96_new_2023-03-09T15:40:03/test_bestacc_2023-09-27T11:00:30\n",
      "auc : 0.9601293103448276, acc : 0.918918918918919, rec : 0.8541666666666666, spc : 0.9367816091954023\n",
      "Doing -- /mnt/ExtData/workspace/pahsos/classification/log/block128_new_2023-03-10T14:09:58/test_bestacc_2023-09-27T11:00:37\n",
      "auc : 0.9584231321839081, acc : 0.9234234234234234, rec : 0.78125, spc : 0.9626436781609196\n",
      "Doing -- /mnt/ExtData/workspace/pahsos/classification/log/block160_new_2023-03-10T23:36:42/test_bestacc_2023-09-27T11:00:43\n",
      "auc : 0.9643797892720307, acc : 0.9234234234234234, rec : 0.78125, spc : 0.9626436781609196\n"
     ]
    }
   ],
   "source": [
    "import os\n",
    "exp_name_all = [f'/mnt/ExtData/workspace/pahsos/classification/log/block64_new_2023-03-08T21:35:22/test_bestacc_2023-09-27T11:00:25', \\\n",
    "            f'/mnt/ExtData/workspace/pahsos/classification/log/block96_new_2023-03-09T15:40:03/test_bestacc_2023-09-27T11:00:30', \\\n",
    "            f'/mnt/ExtData/workspace/pahsos/classification/log/block128_new_2023-03-10T14:09:58/test_bestacc_2023-09-27T11:00:37', \\\n",
    "            f'/mnt/ExtData/workspace/pahsos/classification/log/block160_new_2023-03-10T23:36:42/test_bestacc_2023-09-27T11:00:43']\n",
    "\n",
    "for exp_name in exp_name_all:\n",
    "    print(f'Doing -- {exp_name}')\n",
    "    path = f'{exp_name}/test_block_pred.csv'\n",
    "    df = pd.read_csv(path)\n",
    "    name = np.array(df['name'])\n",
    "    label = np.array(df['label'])\n",
    "    pred = np.stack((df['pred0'], df['pred1'], df['pred2'], df['pred3'], df['pred4']), axis=1)\n",
    "    all = np.array(df)\n",
    "\n",
    "    save_path = f'{exp_name}'\n",
    "    if not os.path.exists(save_path):\n",
    "        os.makedirs(save_path)\n",
    "\n",
    "    avg_pred = np.mean(pred, axis=1)\n",
    "\n",
    "    bi_pred = np.zeros_like(avg_pred)\n",
    "    bi_pred[avg_pred > 0.5] = 1\n",
    "\n",
    "    acc = accuracy_score(label, bi_pred)\n",
    "    f1 = f1_score(label, bi_pred, zero_division=1)\n",
    "    pre = precision_score(label, bi_pred, zero_division=1)\n",
    "    rec = recall_score(label, bi_pred, zero_division=1)\n",
    "    confuse = confusion_matrix(label, bi_pred, labels=[1,0])\n",
    "    spc = confuse[1, 1]/(confuse[1, 0] + confuse[1, 1])\n",
    "\n",
    "    auc = roc_auc_score(label, avg_pred)\n",
    "    fpr = 1 - spc\n",
    "    tpr = rec\n",
    "    youden_index  = tpr - fpr\n",
    "\n",
    "    # kappa\n",
    "    total_num = confuse[0, 0] + confuse[1, 1] + confuse[0, 1] + confuse[1, 0]\n",
    "\n",
    "    p0 = (confuse[0, 0] + confuse[1, 1]) / total_num\n",
    "    pe = ((confuse[0, 0] + confuse[1, 0]) * (confuse[0, 0] + confuse[0, 1]) + (confuse[0, 1] + confuse[1, 1]) * (confuse[1, 0] + confuse[1, 1])) / (total_num * total_num)\n",
    "    kappa = (p0 - pe) / (1 - pe)\n",
    "\n",
    "    tmp = 1.96 * np.sqrt((p0)/(total_num*(1-p0)))\n",
    "    ci95_upper = kappa + tmp\n",
    "    ci95_lower = kappa - tmp\n",
    "\n",
    "    u = kappa / (np.sqrt(p0 / total_num))\n",
    "\n",
    "    print(f'auc : {auc}, acc : {acc}, rec : {rec}, spc : {spc}')\n",
    "\n",
    "    f = open(f\"{save_path}/resemble_block.txt\",\"a\") \n",
    "    f.write(f'auc, youdenindex, acc, pre, rec, spc, tp, fn, fp, tn, kappa, p0, pe, ci95, u\\r\\n')\n",
    "    f.write(f'{auc}, {youden_index}, {acc}, {pre}, {rec}, {spc}, {confuse[0, 0]}, {confuse[0, 1]}, {confuse[1, 0]}, {confuse[1, 1]}, {kappa}, {p0}, {pe}, {[ci95_lower, ci95_upper]}, {u}\\r\\n')\n",
    "    f.close()\n"
   ]
  },
  {
   "attachments": {},
   "cell_type": "markdown",
   "metadata": {},
   "source": [
    "### 2. 计算病人patient level结果\n",
    "\n"
   ]
  },
  {
   "attachments": {},
   "cell_type": "markdown",
   "metadata": {},
   "source": [
    "- find optimal thresh "
   ]
  },
  {
   "cell_type": "code",
   "execution_count": 16,
   "metadata": {},
   "outputs": [
    {
     "name": "stdout",
     "output_type": "stream",
     "text": [
      "auc : 0.853448275862069, acc : 0.918918918918919, rec : 0.75, spc : 0.9655172413793104, youden : 0.7155172413793104\n",
      "auc : 0.9439655172413793, acc : 0.8648648648648649, rec : 0.875, spc : 0.8620689655172413, youden : 0.7370689655172413\n",
      "auc : 0.9267241379310346, acc : 0.918918918918919, rec : 0.75, spc : 0.9655172413793104, youden : 0.7155172413793104\n",
      "auc : 0.9353448275862069, acc : 0.8648648648648649, rec : 0.875, spc : 0.8620689655172413, youden : 0.7370689655172413\n"
     ]
    }
   ],
   "source": [
    "import os\n",
    "eval = 'acc'\n",
    "exp_name_all = [\n",
    "            f'/mnt/ExtData/workspace/pahsos/classification/log/block64_new_2023-03-08T21:35:22/test_bestacc_2023-09-27T11:00:25', \\\n",
    "            f'/mnt/ExtData/workspace/pahsos/classification/log/block96_new_2023-03-09T15:40:03/test_bestacc_2023-09-27T11:00:30', \\\n",
    "            f'/mnt/ExtData/workspace/pahsos/classification/log/block128_new_2023-03-10T14:09:58/test_bestacc_2023-09-27T11:00:37', \\\n",
    "            f'/mnt/ExtData/workspace/pahsos/classification/log/block160_new_2023-03-10T23:36:42/test_bestacc_2023-09-27T11:00:43'\n",
    "            ]\n",
    "\n",
    "for exp_name in exp_name_all:\n",
    "    path = f'{exp_name}/test_block_pred.csv'\n",
    "    df = pd.read_csv(path)\n",
    "    name = np.array(df['name'])\n",
    "    label = np.array(df['label'])\n",
    "    pred = np.stack((df['pred0'], df['pred1'], df['pred2'], df['pred3'], df['pred4']), axis=1)\n",
    "    all = np.array(df)\n",
    "\n",
    "    save_path = f'{exp_name}'\n",
    "    if not os.path.exists(save_path):\n",
    "        os.makedirs(save_path)\n",
    "\n",
    "    given_thresh = 0.5\n",
    "    avg_pred = np.mean(pred, axis=1)\n",
    "    patient_avg_pred_all = []\n",
    "    patient_label_all = []\n",
    "\n",
    "    for i in range(len(name)):\n",
    "        if i % 12 ==0:\n",
    "            patient_name = name[i]\n",
    "            patient_label_all.append(label[i])\n",
    "            # print(patient_name)\n",
    "            patient_pred = 0\n",
    "        else:\n",
    "            assert name[i] == patient_name\n",
    "            patient_pred += avg_pred[i]\n",
    "\n",
    "            if i % 11 == 0:\n",
    "                patient_avg_pred = patient_pred / 12\n",
    "                patient_avg_pred_all.append(patient_avg_pred)\n",
    "\n",
    "    patient_label_all = np.array(patient_label_all)\n",
    "    patient_avg_pred_all = np.array(patient_avg_pred_all)\n",
    "\n",
    "    precision, recall, thresholds = precision_recall_curve(patient_label_all, patient_avg_pred_all)\n",
    "\n",
    "    youden_max, best_thresh = Find_Optimal_Cutoff_bythresh(patient_avg_pred_all, patient_label_all, thresholds)\n",
    "    f = open(f\"{save_path}/resemble_patient_optthresh.txt\",\"a\") \n",
    "    f.write(f'thresh, auc, acc, pre, rec, spc, tp, fn, fp, tn, kappa, p0, pe, ci95, u\\r\\n')\n",
    "\n",
    "    opt_bi_pred = np.zeros_like(patient_avg_pred_all)\n",
    "    opt_bi_pred[patient_avg_pred_all > best_thresh] = 1\n",
    "\n",
    "    opt_acc = accuracy_score(patient_label_all, opt_bi_pred)\n",
    "    opt_f1 = f1_score(patient_label_all, opt_bi_pred, zero_division=1)\n",
    "    opt_pre = precision_score(patient_label_all, opt_bi_pred, zero_division=1)\n",
    "    opt_rec = recall_score(patient_label_all, opt_bi_pred, zero_division=1)\n",
    "    opt_confuse = confusion_matrix(patient_label_all, opt_bi_pred, labels=[1,0])\n",
    "    opt_spc = opt_confuse[1, 1]/(opt_confuse[1, 0] + opt_confuse[1, 1])\n",
    "    \n",
    "    auc = roc_auc_score(patient_label_all, patient_avg_pred_all)\n",
    "    fpr = 1 - opt_spc\n",
    "    tpr = opt_rec\n",
    "    youden_index  = tpr - fpr\n",
    "\n",
    "    # kappa\n",
    "    total_num = opt_confuse[0, 0] + opt_confuse[1, 1] + opt_confuse[0, 1] + opt_confuse[1, 0]\n",
    "\n",
    "    p0 = (opt_confuse[0, 0] + opt_confuse[1, 1]) / total_num\n",
    "    pe = ((opt_confuse[0, 0] + opt_confuse[1, 0]) * (opt_confuse[0, 0] + opt_confuse[0, 1]) + (opt_confuse[0, 1] + opt_confuse[1, 1]) * (opt_confuse[1, 0] + opt_confuse[1, 1])) / (total_num * total_num)\n",
    "    kappa = (p0 - pe) / (1 - pe)\n",
    "\n",
    "    tmp = 1.96 * np.sqrt((p0)/(total_num*(1-p0)))\n",
    "    ci95_upper = kappa + tmp\n",
    "    ci95_lower = kappa - tmp\n",
    "\n",
    "    u = kappa / (np.sqrt(p0 / total_num))\n",
    "\n",
    "    print(f'auc : {auc}, acc : {opt_acc}, rec : {opt_rec}, spc : {opt_spc}, youden : {youden_index}')\n",
    "    f.write(f'{best_thresh}, {auc}, {opt_acc}, {opt_pre}, {opt_rec}, {opt_spc}, {opt_confuse[0, 0]}, {opt_confuse[0, 1]}, {opt_confuse[1, 0]}, {opt_confuse[1, 1]}, {kappa}, {p0}, {pe}, {[ci95_lower, ci95_upper]}, {u}\\r\\n')\n",
    "    f.close()\n"
   ]
  },
  {
   "attachments": {},
   "cell_type": "markdown",
   "metadata": {},
   "source": [
    "## visualization"
   ]
  },
  {
   "cell_type": "code",
   "execution_count": 9,
   "metadata": {},
   "outputs": [],
   "source": [
    "import os\n",
    "import matplotlib.pyplot as plt\n",
    "import pandas as pd\n",
    "import glob\n",
    "from sklearn.metrics import auc, roc_curve\n",
    "import numpy as np\n",
    "\n",
    "eval = 'acc'\n",
    "exp1_path = f'/mnt/ExtData/pahsos/classification/log/block64_new_2023-03-08T21:35:22/test_best{eval}/'\n",
    "exp2_path = f'/mnt/ExtData/pahsos/classification/log/block96_new_2023-03-09T15:40:03/test_best{eval}/'\n",
    "exp3_path = f'/mnt/ExtData/pahsos/classification/log/block128_new_2023-03-10T14:09:58/test_best{eval}/'\n",
    "exp4_path = f'/mnt/ExtData/pahsos/classification/log/block160_new_2023-03-10T23:36:42/test_best{eval}/'\n",
    "\n",
    "\n",
    "block_size = [64, 96, 128, 160]\n",
    "exps = [exp1_path, exp2_path, exp3_path, exp4_path]    \n",
    "color = ['orange', 'blue', 'green', 'red']\n"
   ]
  },
  {
   "attachments": {},
   "cell_type": "markdown",
   "metadata": {},
   "source": [
    "#### block level"
   ]
  },
  {
   "cell_type": "code",
   "execution_count": 10,
   "metadata": {},
   "outputs": [
    {
     "data": {
      "image/png": "[encoded data removed]",
      "text/plain": [
       "<Figure size 720x432 with 1 Axes>"
      ]
     },
     "metadata": {
      "needs_background": "light"
     },
     "output_type": "display_data"
    }
   ],
   "source": [
    "plt.figure(figsize=(10, 6))\n",
    "plt.title(f'ROC Curve of resemble block level evaluation', fontdict={\"family\": \"Times New Roman\", \"size\": 15})\n",
    "plt.plot([0, 1], [0, 1], lw=2, color='black', linestyle=\"--\")\n",
    "plt.xlabel('False positive rate', fontdict={\"family\": \"Times New Roman\", \"size\": 15})\n",
    "plt.ylabel('True positive rate', fontdict={\"family\": \"Times New Roman\", \"size\": 15})\n",
    "\n",
    "for i, path in enumerate(exps):\n",
    "    block_pred_info = pd.read_csv(os.path.join(path, 'test_block_pred.csv'))\n",
    "\n",
    "    \n",
    "\n",
    "    label = block_pred_info['label']\n",
    "    pred = np.stack((block_pred_info['pred0'], block_pred_info['pred1'], block_pred_info['pred2'], block_pred_info['pred3'], block_pred_info['pred4']), axis=1)\n",
    "    avg_pred = np.mean(pred, axis=1)\n",
    "    fpr, tpr, _ = roc_curve(label, avg_pred)\n",
    "    plt.plot(fpr, tpr, lw=2, color=color[i], label=f'ROC curve of {block_size[i]} input (AUC = %0.3f)' % auc(fpr, tpr))\n",
    "\n",
    "    plt.grid()  # 在图中添加网格\n",
    "\n",
    "    plt.legend(loc=\"lower right\") \n",
    "plt.savefig(os.path.join('/mnt/ExtData/pahsos/classification/new_fig', f'5in1_ROC_blocklevel_resemble_{eval}.jpg'), dpi=256)\n"
   ]
  },
  {
   "attachments": {},
   "cell_type": "markdown",
   "metadata": {},
   "source": [
    "### patient level"
   ]
  },
  {
   "cell_type": "code",
   "execution_count": 11,
   "metadata": {},
   "outputs": [
    {
     "data": {
      "image/png": "[encoded data removed]",
      "text/plain": [
       "<Figure size 720x432 with 1 Axes>"
      ]
     },
     "metadata": {
      "needs_background": "light"
     },
     "output_type": "display_data"
    }
   ],
   "source": [
    "plt.figure(figsize=(10, 6))\n",
    "plt.title(f'ROC Curve of resemble patient level evaluation', fontdict={\"family\": \"Times New Roman\", \"size\": 15})\n",
    "plt.plot([0, 1], [0, 1], lw=2, color='black', linestyle=\"--\")\n",
    "plt.xlabel('False positive rate', fontdict={\"family\": \"Times New Roman\", \"size\": 15})\n",
    "plt.ylabel('True positive rate', fontdict={\"family\": \"Times New Roman\", \"size\": 15})\n",
    "\n",
    "for j, path in enumerate(exps):\n",
    "    block_pred_info = pd.read_csv(os.path.join(path, 'test_block_pred.csv'))\n",
    "    name = np.array(block_pred_info['name'])\n",
    "    label = block_pred_info['label']\n",
    "    pred = np.stack((block_pred_info['pred0'], block_pred_info['pred1'], block_pred_info['pred2'], block_pred_info['pred3'], block_pred_info['pred4']), axis=1)\n",
    "    \n",
    "    avg_pred = np.mean(pred, axis=1)\n",
    "    patient_avg_pred_all = []\n",
    "    patient_label_all = []\n",
    "\n",
    "    for i in range(len(name)):\n",
    "        if i % 12 ==0:\n",
    "            patient_name = name[i]\n",
    "            patient_label_all.append(label[i])\n",
    "            # print(patient_name)\n",
    "            patient_pred = 0\n",
    "        else:\n",
    "            assert name[i] == patient_name\n",
    "            patient_pred += avg_pred[i]\n",
    "\n",
    "            if i % 11 == 0:\n",
    "                patient_avg_pred = patient_pred / 12\n",
    "                patient_avg_pred_all.append(patient_avg_pred)\n",
    "\n",
    "    patient_label_all = np.array(patient_label_all)\n",
    "    patient_avg_pred_all = np.array(patient_avg_pred_all)\n",
    "\n",
    "    fpr, tpr, _ = roc_curve(patient_label_all, patient_avg_pred_all)\n",
    "    plt.plot(fpr, tpr, lw=2, color=color[j], label=f'ROC curve of {block_size[j]} input (AUC = %0.3f)' % auc(fpr, tpr))\n",
    "\n",
    "    plt.grid()  # 在图中添加网格\n",
    "\n",
    "    plt.legend(loc=\"lower right\") \n",
    "plt.savefig(os.path.join('/mnt/ExtData/pahsos/classification/new_fig', f'5in1_ROC_patientlevel_resemble_{eval}.jpg'), dpi=256)\n"
   ]
  }
 ],
 "metadata": {
  "kernelspec": {
   "display_name": "trans",
   "language": "python",
   "name": "python3"
  },
  "language_info": {
   "codemirror_mode": {
    "name": "ipython",
    "version": 3
   },
   "file_extension": ".py",
   "mimetype": "text/x-python",
   "name": "python",
   "nbconvert_exporter": "python",
   "pygments_lexer": "ipython3",
   "version": "3.8.17"
  },
  "orig_nbformat": 4,
  "vscode": {
   "interpreter": {
    "hash": "dd74e1ed924431bb964b67f70ae361f41fe3ce1d1fd047a9341f8286508de5f0"
   }
  }
 },
 "nbformat": 4,
 "nbformat_minor": 2
}
