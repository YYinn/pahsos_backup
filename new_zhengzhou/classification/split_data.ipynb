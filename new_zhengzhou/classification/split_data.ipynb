{
 "cells": [
  {
   "cell_type": "code",
   "execution_count": 2,
   "metadata": {},
   "outputs": [],
   "source": [
    "import os\n",
    "import numpy as np\n",
    "import pandas as pd\n",
    "import glob\n",
    "import random\n",
    "import json\n"
   ]
  },
  {
   "cell_type": "markdown",
   "metadata": {},
   "source": [
    "## check label and folders name"
   ]
  },
  {
   "cell_type": "code",
   "execution_count": 24,
   "metadata": {},
   "outputs": [
    {
     "data": {
      "text/plain": [
       "array(['CHENGUITANG', 'DINGKOU', 'DINGXIZHENG', 'FANGJIALI',\n",
       "       'FENGZHAOYIN', 'GUOJINLIANG', 'GUORUANCHAO', 'HANTIEZHU',\n",
       "       'JINYUEE', 'LIGUOQIANG', 'LIJUN', 'LILINGSHAN', 'LIQINGXI',\n",
       "       'LIUXINMIN', 'LIUXIUYU', 'LUFENGDE', 'MALAN', 'MAMEILING',\n",
       "       'MENGXIANLIAN', 'MIAOSHUQIN', 'NIUSHUAN', 'NIUSHUAN2', 'NIUSHUAN3',\n",
       "       'OUXIANCHEN', 'SHIHAIXIA', 'SHIHEWANG', 'SUNYONGXIN',\n",
       "       'SUNZHIQIANG', 'TIANQUANWU', 'TONGNANGZI', 'WANGHAIXIN',\n",
       "       'WANGXIAOHUA', 'XIAOJINZHONG', 'XIEDONGMEI', 'XIETAO',\n",
       "       'XUPENGPENG', 'XUANYUAN', 'YANFENGCHAN', 'YANGUOQIANG', 'YANXIAN',\n",
       "       'YUANGONGXIAN', 'ZHANGGUANGCHAO', 'ZHANGQINGTAO', 'ZHANGSHENGCAI',\n",
       "       'ZHANGTINGLIN', 'ZHANGXIUHUA', 'ZHANGCHANGHAI', 'ZHUYOULIANG'],\n",
       "      dtype=object)"
      ]
     },
     "execution_count": 24,
     "metadata": {},
     "output_type": "execute_result"
    }
   ],
   "source": [
    "# check label\n",
    "label_info = pd.read_csv('/mnt/ExtData/workspace/pahsos/new_zhengzhou/202402label.csv', header=None)\n",
    "label_cls = np.array(label_info[1])\n",
    "label_name = np.array(label_info[0])\n",
    "label_name"
   ]
  },
  {
   "cell_type": "code",
   "execution_count": 27,
   "metadata": {},
   "outputs": [
    {
     "name": "stdout",
     "output_type": "stream",
     "text": [
      "patient name CHENGUITANG cls_label 1\n",
      "patient name DINGKOU cls_label 1\n",
      "patient name DINGXIZHENG cls_label 0\n",
      "patient name FANGJIALI cls_label 1\n",
      "patient name FENGZHAOYIN cls_label 1\n",
      "patient name GUOJINLIANG cls_label 0\n",
      "patient name GUORUANCHAO cls_label 0\n",
      "patient name HANTIEZHU cls_label 1\n",
      "patient name JINYUEE cls_label 1\n",
      "patient name LIGUOQIANG cls_label 0\n",
      "patient name LIJUN cls_label 0\n",
      "patient name LILINGSHAN cls_label 0\n",
      "patient name LIQINGXI cls_label 1\n",
      "patient name LIUXINMIN cls_label 1\n",
      "patient name LIUXIUYU cls_label 1\n",
      "patient name LUFENGDE cls_label 0\n",
      "patient name MALAN cls_label 0\n",
      "patient name MAMEILING cls_label 0\n",
      "patient name MENGXIANLIAN cls_label 0\n",
      "patient name MIAOSHUQIN cls_label 1\n",
      "patient name NIUSHUAN cls_label 1\n",
      "patient name NIUSHUAN2 cls_label 1\n",
      "patient name NIUSHUAN3 cls_label 1\n",
      "patient name OUXIANCHEN cls_label 1\n",
      "patient name SHIHAIXIA cls_label 0\n",
      "patient name SHIHEWANG cls_label 1\n",
      "patient name SUNYONGXIN cls_label 1\n",
      "patient name SUNZHIQIANG cls_label 0\n",
      "patient name TIANQUANWU cls_label 1\n",
      "patient name TONGNANGZI cls_label 1\n",
      "patient name WANGHAIXIN cls_label 0\n",
      "patient name WANGXIAOHUA cls_label 0\n",
      "patient name XIAOJINZHONG cls_label 0\n",
      "patient name XIEDONGMEI cls_label 1\n",
      "patient name XIETAO cls_label 0\n",
      "patient name XUANYUAN cls_label 1\n",
      "patient name XUPENGPENG cls_label 0\n",
      "patient name YANFENGCHAN cls_label 1\n",
      "patient name YANGUOQIANG cls_label 0\n",
      "patient name YANXIAN cls_label 1\n",
      "patient name YUANGONGXIAN cls_label 1\n",
      "patient name ZHANGCHANGHAI cls_label 1\n",
      "patient name ZHANGGUANGCHAO cls_label 0\n",
      "patient name ZHANGQINGTAO cls_label 1\n",
      "patient name ZHANGSHENGCAI cls_label 1\n",
      "patient name ZHANGTINGLIN cls_label 1\n",
      "patient name ZHANGXIUHUA cls_label 1\n",
      "patient name ZHUYOULIANG cls_label 0\n"
     ]
    }
   ],
   "source": [
    "\n",
    "patient_path = np.sort(glob.glob(os.path.join('/mnt/ExtData/workspace/pahsos/new_zhengzhou/processed', '*')))\n",
    "\n",
    "for patient_idx in range(len(patient_path)):       \n",
    "\n",
    "    patient_name = patient_path[patient_idx][patient_path[patient_idx].rfind('/')+1:]\n",
    "    if not (patient_name in label_name):\n",
    "        print(f'Cant find label for {patient_name}')\n",
    "    else:\n",
    "        print('patient name', patient_name, 'cls_label', label_cls[np.argwhere(label_name == patient_name)[0][0]])"
   ]
  },
  {
   "cell_type": "markdown",
   "metadata": {},
   "source": [
    "## create json list"
   ]
  },
  {
   "cell_type": "code",
   "execution_count": 3,
   "metadata": {},
   "outputs": [
    {
     "name": "stdout",
     "output_type": "stream",
     "text": [
      "{'type': 'None', 'patient_name': 'CHENGUITANG', 'label': 1}\n",
      "{'type': 'None', 'patient_name': 'DINGKOU', 'label': 1}\n",
      "{'type': 'None', 'patient_name': 'DINGXIZHENG', 'label': 0}\n",
      "{'type': 'None', 'patient_name': 'FANGJIALI', 'label': 1}\n",
      "{'type': 'None', 'patient_name': 'FENGZHAOYIN', 'label': 1}\n",
      "{'type': 'None', 'patient_name': 'GUOJINLIANG', 'label': 0}\n",
      "{'type': 'None', 'patient_name': 'GUORUANCHAO', 'label': 0}\n",
      "{'type': 'None', 'patient_name': 'HANTIEZHU', 'label': 1}\n",
      "{'type': 'None', 'patient_name': 'JINYUEE', 'label': 1}\n",
      "{'type': 'None', 'patient_name': 'LIGUOQIANG', 'label': 0}\n",
      "{'type': 'None', 'patient_name': 'LIJUN', 'label': 0}\n",
      "{'type': 'None', 'patient_name': 'LILINGSHAN', 'label': 0}\n",
      "{'type': 'None', 'patient_name': 'LIQINGXI', 'label': 1}\n",
      "{'type': 'None', 'patient_name': 'LIUXINMIN', 'label': 1}\n",
      "{'type': 'None', 'patient_name': 'LIUXIUYU', 'label': 1}\n",
      "{'type': 'None', 'patient_name': 'LUFENGDE', 'label': 0}\n",
      "{'type': 'None', 'patient_name': 'MALAN', 'label': 0}\n",
      "{'type': 'None', 'patient_name': 'MAMEILING', 'label': 0}\n",
      "{'type': 'None', 'patient_name': 'MENGXIANLIAN', 'label': 0}\n",
      "{'type': 'None', 'patient_name': 'MIAOSHUQIN', 'label': 1}\n",
      "{'type': 'None', 'patient_name': 'NIUSHUAN', 'label': 1}\n",
      "{'type': 'None', 'patient_name': 'NIUSHUAN2', 'label': 1}\n",
      "{'type': 'None', 'patient_name': 'NIUSHUAN3', 'label': 1}\n",
      "{'type': 'None', 'patient_name': 'OUXIANCHEN', 'label': 1}\n",
      "{'type': 'None', 'patient_name': 'SHIHAIXIA', 'label': 0}\n",
      "{'type': 'None', 'patient_name': 'SHIHEWANG', 'label': 1}\n",
      "{'type': 'None', 'patient_name': 'SUNYONGXIN', 'label': 1}\n",
      "{'type': 'None', 'patient_name': 'SUNZHIQIANG', 'label': 0}\n",
      "{'type': 'None', 'patient_name': 'TIANQUANWU', 'label': 1}\n",
      "{'type': 'None', 'patient_name': 'TONGNANGZI', 'label': 1}\n",
      "{'type': 'None', 'patient_name': 'WANGHAIXIN', 'label': 0}\n",
      "{'type': 'None', 'patient_name': 'WANGXIAOHUA', 'label': 0}\n",
      "{'type': 'None', 'patient_name': 'XIAOJINZHONG', 'label': 0}\n",
      "{'type': 'None', 'patient_name': 'XIEDONGMEI', 'label': 1}\n",
      "{'type': 'None', 'patient_name': 'XIETAO', 'label': 0}\n",
      "{'type': 'None', 'patient_name': 'XUANYUAN', 'label': 1}\n",
      "{'type': 'None', 'patient_name': 'XUPENGPENG', 'label': 0}\n",
      "{'type': 'None', 'patient_name': 'YANFENGCHAN', 'label': 1}\n",
      "{'type': 'None', 'patient_name': 'YANGUOQIANG', 'label': 0}\n",
      "{'type': 'None', 'patient_name': 'YANXIAN', 'label': 1}\n",
      "{'type': 'None', 'patient_name': 'YUANGONGXIAN', 'label': 1}\n",
      "{'type': 'None', 'patient_name': 'ZHANGCHANGHAI', 'label': 1}\n",
      "{'type': 'None', 'patient_name': 'ZHANGGUANGCHAO', 'label': 0}\n",
      "{'type': 'None', 'patient_name': 'ZHANGQINGTAO', 'label': 1}\n",
      "{'type': 'None', 'patient_name': 'ZHANGSHENGCAI', 'label': 1}\n",
      "{'type': 'None', 'patient_name': 'ZHANGTINGLIN', 'label': 1}\n",
      "{'type': 'None', 'patient_name': 'ZHANGXIUHUA', 'label': 1}\n",
      "{'type': 'None', 'patient_name': 'ZHUYOULIANG', 'label': 0}\n",
      "test_pahsos 48\n"
     ]
    }
   ],
   "source": [
    "# list方式生成并保存traindataset和testdataset list\n",
    "\n",
    "data_path = '/mnt/ExtData/pahsos/Data/preprocessed'\n",
    "csv_save_path = '/mnt/ExtData/workspace/pahsos/new_zhengzhou/classification'\n",
    "json_save_path = '/mnt/ExtData/workspace/pahsos/new_zhengzhou/classification'\n",
    "\n",
    "label_info = pd.read_csv('/mnt/ExtData/workspace/pahsos/new_zhengzhou/202402label.csv', header=None)\n",
    "label_cls = np.array(label_info[1])\n",
    "label_name = np.array(label_info[0])\n",
    "label_name\n",
    "\n",
    "train = []\n",
    "test = []\n",
    "\n",
    "test_pahsos = 0\n",
    "\n",
    "patient_path = np.sort(glob.glob(os.path.join('/mnt/ExtData/workspace/pahsos/new_zhengzhou/processed', '*')))\n",
    "\n",
    "for patient_idx in range(len(patient_path)):       \n",
    "\n",
    "    patient_name = patient_path[patient_idx][patient_path[patient_idx].rfind('/')+1:]\n",
    "    if not (patient_name in label_name):\n",
    "        print(f'Cant find label for {patient_name}')\n",
    "    else:\n",
    "        label_i = int(label_cls[np.argwhere(label_name == patient_name)[0][0]])\n",
    "\n",
    "    data = {\n",
    "        'type': 'None', #这里没有进行细致的区分\n",
    "        'patient_name': patient_name,\n",
    "        'label': label_i,\n",
    "    }\n",
    "    print(data)\n",
    "    test.append(data)\n",
    "    test_pahsos += 1\n",
    "\n",
    "with open(f'{json_save_path}/data_split.json','a+') as f:\n",
    "    json_info = {\n",
    "        'test':test\n",
    "    } \n",
    "    json.dump(json_info, f)\n",
    "    f.write(\"\\n\")\n",
    "\n",
    "print(f'test_pahsos {test_pahsos}')"
   ]
  }
 ],
 "metadata": {
  "kernelspec": {
   "display_name": "trans",
   "language": "python",
   "name": "python3"
  },
  "language_info": {
   "codemirror_mode": {
    "name": "ipython",
    "version": 3
   },
   "file_extension": ".py",
   "mimetype": "text/x-python",
   "name": "python",
   "nbconvert_exporter": "python",
   "pygments_lexer": "ipython3",
   "version": "3.8.17"
  },
  "orig_nbformat": 4,
  "vscode": {
   "interpreter": {
    "hash": "dd74e1ed924431bb964b67f70ae361f41fe3ce1d1fd047a9341f8286508de5f0"
   }
  }
 },
 "nbformat": 4,
 "nbformat_minor": 2
}
