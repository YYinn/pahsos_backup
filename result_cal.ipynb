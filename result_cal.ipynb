{
 "cells": [
  {
   "cell_type": "code",
   "execution_count": 13,
   "metadata": {},
   "outputs": [],
   "source": [
    "import pandas as pd\n",
    "import numpy as np\n",
    "from sklearn.metrics import (accuracy_score, f1_score, precision_score,\n",
    "                             recall_score, roc_auc_score)\n",
    "import matplotlib.pyplot as plt\n",
    "from sklearn.metrics import roc_curve\n",
    "from sklearn.metrics import confusion_matrix\n"
   ]
  },
  {
   "cell_type": "code",
   "execution_count": 14,
   "metadata": {},
   "outputs": [],
   "source": [
    "def opt_auc_save_patient(test_log_dir, fold, label, predict, curve_auc):\n",
    "\n",
    "    fpr, tpr, _ = roc_curve(label, predict)\n",
    "    ## opt AUC curve\n",
    "    line_width = 1  # 曲线的宽度\n",
    "    print(f'AUC = {round(curve_auc, 4)}')\n",
    "    plt.figure(figsize=(8, 5))  # 图的大小\n",
    "    plt.plot(fpr, tpr, lw=line_width, label=f'AUC = {round(curve_auc, 4)}', color='red')\n",
    "    plt.plot([0, 1], [0, 1], linestyle=\"--\")\n",
    "    plt.savefig(f'{test_log_dir}patientlevel_ROC_fold{fold}.jpg' , dpi=256)#bbox_inches='tight', pad_inches=0, "
   ]
  },
  {
   "cell_type": "code",
   "execution_count": 25,
   "metadata": {},
   "outputs": [
    {
     "name": "stdout",
     "output_type": "stream",
     "text": [
      "block64_new_2023-03-08T21:35:22/test_bestauc\n",
      "block64_new_2023-03-08T21:35:22/test_bestacc\n",
      "block96_new_2023-03-09T15:40:03/test_bestauc\n",
      "block96_new_2023-03-09T15:40:03/test_bestacc\n",
      "block128_new_2023-03-10T14:09:58/test_bestauc\n",
      "block128_new_2023-03-10T14:09:58/test_bestacc\n",
      "block160_new_2023-03-10T23:36:42/test_bestauc\n",
      "block160_new_2023-03-10T23:36:42/test_bestacc\n"
     ]
    }
   ],
   "source": [
    "exp_name_all = [f'block64_new_2023-03-08T21:35:22/', \\\n",
    "            f'block96_new_2023-03-09T15:40:03/', \\\n",
    "            f'block128_new_2023-03-10T14:09:58/', \\\n",
    "            f'block160_new_2023-03-10T23:36:42/']\n",
    "\n",
    "\n",
    "for exp_name in exp_name_all:\n",
    "    for eval in ('auc', 'acc'):\n",
    "        experiment_name = f'{exp_name}test_best{eval}'\n",
    "        print(experiment_name)\n",
    "        path = f'/mnt/ExtData/pahsos/classification/log/{experiment_name}/test_block_pred.csv'\n",
    "        df = pd.read_csv(path)\n",
    "        name = np.array(df['name'])\n",
    "        label = np.array(df['label'])\n",
    "        pred = np.stack((df['pred0'], df['pred1'], df['pred2'], df['pred3'], df['pred4']), axis=1)\n",
    "        all = np.array(df)\n",
    "\n",
    "        save_path = f'/mnt/ExtData/pahsos/classification/log/{experiment_name}/'\n",
    "        for fold in range(5):\n",
    "\n",
    "            total_label = []\n",
    "            total_avg_predict = []\n",
    "            total_bi_avg_predict = []\n",
    "\n",
    "            f = open(f\"{save_path}test_patient_pred.txt\",\"a\") \n",
    "            if fold == 0:\n",
    "                f.write(f'fold, patient_name, patient_label, avg_pred, binary_pred\\r\\n')\n",
    "\n",
    "            for patient_num in range(int(len(name)/12)):\n",
    "                patient_label = label[int(patient_num*12)]\n",
    "                patient_name = name[int(patient_num*12)]\n",
    "\n",
    "                # 计算12个block概率值均值\n",
    "                avg_pred = 0\n",
    "                for block_num in range(12):\n",
    "                    avg_pred += pred[patient_num*12 + block_num, fold]\n",
    "                avg_pred = avg_pred / 12\n",
    "\n",
    "                # binary_pred : 使用0.5二值化均值\n",
    "                if avg_pred >= 0.5:\n",
    "                    binary_pred = 1\n",
    "                else:\n",
    "                    binary_pred = 0\n",
    "\n",
    "\n",
    "                total_label.append(float(patient_label))\n",
    "                total_avg_predict.append(avg_pred)\n",
    "                total_bi_avg_predict.append(binary_pred)\n",
    "                f.write(f'{fold}, {patient_name}, {patient_label}, {avg_pred}, {binary_pred}\\r\\n')\n",
    "            f.close()\n",
    "\n",
    "\n",
    "            total_label = np.array(total_label)\n",
    "            total_avg_predict = np.array(total_avg_predict)\n",
    "            total_bi_avg_predict = np.array(total_bi_avg_predict)\n",
    "\n",
    "            fold_auc = roc_auc_score(total_label, total_avg_predict)\n",
    "\n",
    "            # 使用0.5阈值计算的指标\n",
    "            acc = accuracy_score(total_label, total_bi_avg_predict)\n",
    "            f1 = f1_score(total_label, total_bi_avg_predict, zero_division=1)\n",
    "            pre = precision_score(total_label, total_bi_avg_predict, zero_division=1)\n",
    "            rec = recall_score(total_label, total_bi_avg_predict, zero_division=1)\n",
    "            confuse = confusion_matrix(total_label, total_bi_avg_predict, labels=[1,0])\n",
    "            spc = confuse[1, 1]/(confuse[1, 0] + confuse[1, 1])\n",
    "\n",
    "            f = open(f\"{save_path}test_thresh0.5_patient_result.txt\",\"a\") \n",
    "            if fold == 0:\n",
    "                f.write(f'fold, auc, acc, pre, rec, f1, spc, tp, fp, fn, tn \\r\\n')\n",
    "            f.write(f'{fold}, {fold_auc}, {acc}, {pre}, {rec}, {f1}, {spc}, {confuse[0, 0]}, {confuse[0, 1]}, {confuse[1, 0]}, {confuse[1, 1]}\\r\\n')\n",
    "            f.close()\n",
    "\n",
    "        \n",
    "    "
   ]
  }
 ],
 "metadata": {
  "kernelspec": {
   "display_name": "trans",
   "language": "python",
   "name": "python3"
  },
  "language_info": {
   "codemirror_mode": {
    "name": "ipython",
    "version": 3
   },
   "file_extension": ".py",
   "mimetype": "text/x-python",
   "name": "python",
   "nbconvert_exporter": "python",
   "pygments_lexer": "ipython3",
   "version": "3.8.12"
  },
  "orig_nbformat": 4,
  "vscode": {
   "interpreter": {
    "hash": "dd74e1ed924431bb964b67f70ae361f41fe3ce1d1fd047a9341f8286508de5f0"
   }
  }
 },
 "nbformat": 4,
 "nbformat_minor": 2
}
