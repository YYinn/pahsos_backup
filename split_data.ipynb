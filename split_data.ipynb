{
 "cells": [
  {
   "cell_type": "code",
   "execution_count": 13,
   "metadata": {},
   "outputs": [],
   "source": [
    "import os\n",
    "import numpy as np\n",
    "import pandas as pd\n",
    "import glob\n",
    "import random\n",
    "import json"
   ]
  },
  {
   "cell_type": "code",
   "execution_count": 14,
   "metadata": {},
   "outputs": [
    {
     "name": "stdout",
     "output_type": "stream",
     "text": [
      "pos patient count 39  neg patient count 148\n",
      "pahsos : 39, HBV : 97, BCs : 51\n"
     ]
    }
   ],
   "source": [
    "data_path = '/mnt/ExtData/pahsos/Data/preprocessed'\n",
    "cls = ['BCs', 'HBV', 'PA-HSOS']\n",
    "\n",
    "pahsos_patient_list = []\n",
    "hbv_patient_list = []\n",
    "bcs_patient_list = []\n",
    "\n",
    "for type in cls:\n",
    "    disease_cls_path = os.path.join(data_path, f'{type}/') \n",
    "    patient_path = np.sort(glob.glob(os.path.join(disease_cls_path, '*')))\n",
    "\n",
    "    for patient_idx in range(len(patient_path)):       \n",
    "\n",
    "        patient_name = patient_path[patient_idx][patient_path[patient_idx].rfind('/')+1:]\n",
    "        if type == 'PA-HSOS':\n",
    "            pahsos_patient_list.append(patient_name)\n",
    "        elif type == 'HBV':\n",
    "            hbv_patient_list.append(patient_name)\n",
    "        elif type == 'BCs':\n",
    "            bcs_patient_list.append(patient_name)\n",
    "\n",
    "print(f'pos patient count {len(pahsos_patient_list)}  neg patient count {len(hbv_patient_list)+len(bcs_patient_list)}')\n",
    "print(f'pahsos : {len(pahsos_patient_list)}, HBV : {len(hbv_patient_list)}, BCs : {len(bcs_patient_list)}')"
   ]
  },
  {
   "attachments": {},
   "cell_type": "markdown",
   "metadata": {},
   "source": [
    "按照8：2的比例进行划分"
   ]
  },
  {
   "cell_type": "code",
   "execution_count": 15,
   "metadata": {},
   "outputs": [
    {
     "name": "stdout",
     "output_type": "stream",
     "text": [
      "label 1 : test/total : pahsos 8/39\n",
      "label 0 : test/total : hbv 19/97, bcs 10/51\n"
     ]
    }
   ],
   "source": [
    "#生成随机数\n",
    "test_ratio = 0.2\n",
    "test_pahsos_num, test_hbv_num, test_bcs_num = round(len(pahsos_patient_list)*test_ratio), round(len(hbv_patient_list)*test_ratio), round(len(bcs_patient_list)*test_ratio)\n",
    "print(f'label 1 : test/total : pahsos {test_pahsos_num}/{len(pahsos_patient_list)}')\n",
    "print(f'label 0 : test/total : hbv {test_hbv_num}/{len(hbv_patient_list)}, bcs {test_bcs_num}/{len(bcs_patient_list)}')\n"
   ]
  },
  {
   "cell_type": "code",
   "execution_count": 16,
   "metadata": {},
   "outputs": [
    {
     "name": "stdout",
     "output_type": "stream",
     "text": [
      "test index : pahsos  [38, 9, 25, 28, 35, 11, 19, 26], bcs [29, 45, 6, 50, 22, 4, 26, 46, 43, 21], hbv [92, 81, 75, 25, 30, 24, 7, 85, 58, 16, 64, 9, 38, 95, 29, 96, 4, 23, 36]\n"
     ]
    }
   ],
   "source": [
    "random.seed(147)# 固定随机数种子后，随机出的数字是固定的。\n",
    "\n",
    "test_pahsos_index = random.sample(range(0, len(pahsos_patient_list)), test_pahsos_num) # (low,high,n)   产生[low, high)间的n个随机数\n",
    "test_bcs_index = random.sample(range(0, len(bcs_patient_list)), test_bcs_num) # (low,high,n)   产生[low, high)间的n个随机数\n",
    "test_hbv_index = random.sample(range(0, len(hbv_patient_list)), test_hbv_num) # (low,high,n)   产生[low, high)间的n个随机数\n",
    "print(f'test index : pahsos  {test_pahsos_index}, bcs {test_bcs_index}, hbv {test_hbv_index}')\n"
   ]
  },
  {
   "cell_type": "code",
   "execution_count": 18,
   "metadata": {},
   "outputs": [
    {
     "name": "stdout",
     "output_type": "stream",
     "text": [
      "train_pahsos : 31, train_hbv : 78, train_bcs : 41\n",
      "test_pahsos 8, test_hbv 19, test_bcs 10\n"
     ]
    }
   ],
   "source": [
    "# list方式生成并保存traindataset和testdataset list\n",
    "\n",
    "data_path = '/mnt/ExtData/pahsos/Data/preprocessed'\n",
    "cls = ['BCs', 'HBV', 'PA-HSOS']\n",
    "csv_save_path = '/mnt/ExtData/pahsos/Data'\n",
    "json_save_path = '/mnt/ExtData/pahsos/Data'\n",
    "\n",
    "total_list = []\n",
    "\n",
    "train = []\n",
    "test = []\n",
    "\n",
    "train_pahsos = 0\n",
    "train_hbv = 0\n",
    "train_bcs = 0\n",
    "\n",
    "test_pahsos = 0\n",
    "test_hbv = 0\n",
    "test_bcs = 0\n",
    "\n",
    "for type in cls:\n",
    "    disease_cls_path = os.path.join(data_path, f'{type}/') \n",
    "    patient_path = np.sort(glob.glob(os.path.join(disease_cls_path, '*')))\n",
    "\n",
    "    for patient_idx in range(len(patient_path)):       \n",
    "\n",
    "        patient_name = patient_path[patient_idx][patient_path[patient_idx].rfind('/')+1:]\n",
    "        if type == 'PA-HSOS':\n",
    "            if patient_idx in test_pahsos_index:\n",
    "                total_list.append(['PA-HSOS', patient_name, 1, 'test'])\n",
    "                data = {\n",
    "                    'type': 'PA-HSOS', #和读取数据的文件夹名字一样\n",
    "                    'patient_name': patient_name,\n",
    "                    'label': 1,\n",
    "                }\n",
    "                test.append(data)\n",
    "                test_pahsos += 1\n",
    "            else:\n",
    "                total_list.append(['PA-HSOS', patient_name, 1, 'train'])\n",
    "                data = {\n",
    "                    'type': 'PA-HSOS', \n",
    "                    'patient_name': patient_name,\n",
    "                    'label': 1,\n",
    "                }\n",
    "                train.append(data)\n",
    "                train_pahsos += 1\n",
    "        elif type == 'HBV':\n",
    "            if patient_idx in test_hbv_index:\n",
    "                total_list.append(['HBV', patient_name, 0, 'test'])\n",
    "                data = {\n",
    "                    'type': 'HBV', \n",
    "                    'patient_name': patient_name,\n",
    "                    'label': 0,\n",
    "                }\n",
    "                test.append(data)\n",
    "                test_hbv += 1\n",
    "            else:\n",
    "                total_list.append(['HBV', patient_name, 0, 'train'])\n",
    "                data = {\n",
    "                    'type': 'HBV',\n",
    "                    'patient_name': patient_name,\n",
    "                    'label': 0,\n",
    "                }\n",
    "                train.append(data)\n",
    "                train_hbv += 1\n",
    "        elif type == 'BCs':\n",
    "            if patient_idx in test_bcs_index:\n",
    "                total_list.append(['BCs', patient_name, 0, 'test'])\n",
    "                data = {\n",
    "                    'type': 'BCs',\n",
    "                    'patient_name': patient_name,\n",
    "                    'label': 0,\n",
    "                }\n",
    "                test.append(data)\n",
    "                test_bcs += 1\n",
    "            else:\n",
    "                total_list.append(['BCs', patient_name, 0, 'train'])\n",
    "                data = {\n",
    "                    'type': 'BCs',\n",
    "                    'patient_name': patient_name,\n",
    "                    'label': 0,\n",
    "                }\n",
    "                train.append(data)\n",
    "                train_bcs += 1\n",
    "\n",
    "df1 = pd.DataFrame(data=total_list, columns=['type', 'patient_name', 'label', 'train/test'])\n",
    "df1.to_csv(f'{csv_save_path}/data_split.csv',index=False)\n",
    "\n",
    "with open(f'{json_save_path}/data_split.json','a+') as f:\n",
    "    json_info = {\n",
    "        'train':train,\n",
    "        'test':test\n",
    "    } \n",
    "    json.dump(json_info, f)\n",
    "    f.write(\"\\n\")\n",
    "\n",
    "print(f'train_pahsos : {train_pahsos}, train_hbv : {train_hbv}, train_bcs : {train_bcs}')\n",
    "print(f'test_pahsos {test_pahsos}, test_hbv {test_hbv}, test_bcs {test_bcs}')"
   ]
  }
 ],
 "metadata": {
  "kernelspec": {
   "display_name": "trans",
   "language": "python",
   "name": "python3"
  },
  "language_info": {
   "codemirror_mode": {
    "name": "ipython",
    "version": 3
   },
   "file_extension": ".py",
   "mimetype": "text/x-python",
   "name": "python",
   "nbconvert_exporter": "python",
   "pygments_lexer": "ipython3",
   "version": "3.8.12"
  },
  "orig_nbformat": 4,
  "vscode": {
   "interpreter": {
    "hash": "dd74e1ed924431bb964b67f70ae361f41fe3ce1d1fd047a9341f8286508de5f0"
   }
  }
 },
 "nbformat": 4,
 "nbformat_minor": 2
}
