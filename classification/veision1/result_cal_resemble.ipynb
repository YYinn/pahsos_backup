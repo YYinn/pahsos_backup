{
 "cells": [
  {
   "attachments": {},
   "cell_type": "markdown",
   "metadata": {},
   "source": [
    "！ fp, fn 写反了 已改\n"
   ]
  },
  {
   "cell_type": "code",
   "execution_count": 2,
   "metadata": {},
   "outputs": [],
   "source": [
    "import pandas as pd\n",
    "import numpy as np\n",
    "from sklearn.metrics import (accuracy_score, f1_score, precision_score,\n",
    "                             recall_score, roc_auc_score, cohen_kappa_score, precision_recall_curve)\n",
    "import matplotlib.pyplot as plt\n",
    "from sklearn.metrics import roc_curve\n",
    "from sklearn.metrics import confusion_matrix\n"
   ]
  },
  {
   "cell_type": "code",
   "execution_count": 3,
   "metadata": {},
   "outputs": [],
   "source": [
    "def opt_auc_save_patient(test_log_dir, fold, label, predict, curve_auc):\n",
    "\n",
    "    fpr, tpr, _ = roc_curve(label, predict)\n",
    "    ## opt AUC curve\n",
    "    line_width = 1  # 曲线的宽度\n",
    "    print(f'AUC = {round(curve_auc, 4)}')\n",
    "    plt.figure(figsize=(8, 5))  # 图的大小\n",
    "    plt.plot(fpr, tpr, lw=line_width, label=f'AUC = {round(curve_auc, 4)}', color='red')\n",
    "    plt.plot([0, 1], [0, 1], linestyle=\"--\")\n",
    "    plt.savefig(f'{test_log_dir}patientlevel_ROC_fold{fold}.jpg' , dpi=256)#bbox_inches='tight', pad_inches=0, "
   ]
  },
  {
   "attachments": {},
   "cell_type": "markdown",
   "metadata": {},
   "source": [
    "## resemble evaluation\n"
   ]
  },
  {
   "attachments": {},
   "cell_type": "markdown",
   "metadata": {},
   "source": [
    "### Step 2. 计算方法1： 计算病人block预测概率均值\n",
    "\n",
    "- 读取test block级别预测概率 pred.csv\n",
    "\n",
    "- 读取根据val计算出的各个fold的最佳阈值 result.csv\n",
    "\n",
    "！ 请检查测试集数据没有被打乱且每个病人均有12个block，否则需要修改\n"
   ]
  },
  {
   "cell_type": "code",
   "execution_count": 14,
   "metadata": {},
   "outputs": [],
   "source": [
    "import os\n",
    "# check！\n",
    "experiment_name = 's12_block96_maskedTrue_es50_2023-02-09T09:11:18'\n",
    "# experiment_name = 's12_block128_maskedTrue_es50_2023-02-05T09:42:27'\n",
    "# experiment_name = 's12_block160_maskedTrue_es50_2023-02-13T22:47:06'\n",
    "# experiment_name = 's12_block64_maskedTrue_es50_2023-02-24T09:50:32'\n",
    "\n",
    "# load pred probability\n",
    "path = f'/mnt/ExtData/pahsos/classification/log/{experiment_name}/test/test_block_pred.csv'\n",
    "df = pd.read_csv(path)\n",
    "name = np.array(df['name'])\n",
    "label = np.array(df['label'])\n",
    "pred = np.stack((df['pred0'], df['pred1'], df['pred2'], df['pred3'], df['pred4']), axis=1)\n",
    "all = np.array(df)\n",
    "\n",
    "save_path = f'/mnt/ExtData/pahsos/classification/log/{experiment_name}/test_new/'\n",
    "if not os.path.exists(save_path):\n",
    "    os.makedirs(save_path)"
   ]
  },
  {
   "cell_type": "code",
   "execution_count": 6,
   "metadata": {},
   "outputs": [
    {
     "name": "stdout",
     "output_type": "stream",
     "text": [
      "[8.14537986e-01 2.04363221e-02 3.96627139e-02 1.43363729e-02\n",
      " 3.43177989e-01 2.04994443e-02 2.12286875e-03 1.12025112e-01\n",
      " 1.37014358e-02 2.43258937e-03 5.50015409e-03 1.47978211e-02\n",
      " 6.67593002e-02 6.70093571e-01 2.60893815e-02 3.10046327e-02\n",
      " 7.41838541e-02 1.24590186e-02 2.82603640e-01 2.19579717e-03\n",
      " 1.28469901e-03 6.95335579e-04 7.99877050e-03 2.52884583e-03\n",
      " 2.46723270e-02 3.85215986e-03 2.34683647e-03 4.74200493e-03\n",
      " 3.61694247e-03 2.75039447e-01 1.76071039e-01 6.45884290e-02\n",
      " 1.09899861e-02 8.25919304e-01 4.85390337e-01 6.22487526e-01\n",
      " 6.03407926e-01]\n",
      "['CHEN-YUYU', 'CHEN-ZHONGLIANG', 'CHENG-JINFEN', 'FU-LIHUA', 'HU-ZHUIFEI', 'JIA-XIANG', 'LIU-JIANLIN', 'LIU-SHENGXIU', 'MA-TAIYONG', 'WANG-JING', 'WANG-SHIQIANG', 'WU-TUANJIE', 'XIA-CHUNSAN', 'XU-ZHENNING', 'YU-HAO', 'ZHANG-CHANGJUN', 'ZHANG-JINGFENG', 'ZHANG-SUYING', 'ZHU-SHIPING', 'CAO-YANHUA', 'CHEN-WEIDONG', 'JI-WENHUA', 'JIA-GUOGUANG', 'JIANG-YONGQUAN', 'LI-DONGSHUI', 'LI-WANHUI', 'LI-ZHONG', 'ZHU-YAPING', 'ZHUANG-MUGEN', 'LU-YUEYING', 'MA-CHUANHONG', 'TENG-XINGHUA', 'YAO-YAO', 'YE-JIEMO', 'YUAN-YUAN', 'ZHU-GUOQING', 'ZHU-YUMING']\n",
      "[1. 0. 0. 0. 1. 0. 0. 0. 0. 0. 0. 0. 0. 1. 0. 0. 0. 0. 1. 0. 0. 0. 0. 0.\n",
      " 0. 0. 0. 0. 0. 1. 1. 0. 0. 1. 1. 1. 1.]\n",
      "[0. 0. 0. 0. 0. 0. 0. 0. 0. 0. 0. 0. 0. 0. 0. 0. 0. 0. 0. 0. 0. 0. 0. 0.\n",
      " 0. 0. 0. 0. 0. 1. 1. 1. 1. 1. 1. 1. 1.]\n",
      "[0.85136762 0.02048435 0.05025969 0.02244377 0.40643832 0.01300848\n",
      " 0.00641015 0.09635182 0.00824254 0.01010436 0.00251546 0.08264668\n",
      " 0.15638482 0.66817296 0.07231408 0.08077276 0.09764532 0.04026262\n",
      " 0.28344179 0.0060047  0.00356113 0.00118241 0.02039657 0.02076136\n",
      " 0.06272553 0.02039361 0.01213633 0.01937646 0.00817621 0.26620551\n",
      " 0.19439664 0.05703443 0.03436272 0.84386455 0.58337608 0.65048265\n",
      " 0.61249854]\n",
      "['CHEN-YUYU', 'CHEN-ZHONGLIANG', 'CHENG-JINFEN', 'FU-LIHUA', 'HU-ZHUIFEI', 'JIA-XIANG', 'LIU-JIANLIN', 'LIU-SHENGXIU', 'MA-TAIYONG', 'WANG-JING', 'WANG-SHIQIANG', 'WU-TUANJIE', 'XIA-CHUNSAN', 'XU-ZHENNING', 'YU-HAO', 'ZHANG-CHANGJUN', 'ZHANG-JINGFENG', 'ZHANG-SUYING', 'ZHU-SHIPING', 'CAO-YANHUA', 'CHEN-WEIDONG', 'JI-WENHUA', 'JIA-GUOGUANG', 'JIANG-YONGQUAN', 'LI-DONGSHUI', 'LI-WANHUI', 'LI-ZHONG', 'ZHU-YAPING', 'ZHUANG-MUGEN', 'LU-YUEYING', 'MA-CHUANHONG', 'TENG-XINGHUA', 'YAO-YAO', 'YE-JIEMO', 'YUAN-YUAN', 'ZHU-GUOQING', 'ZHU-YUMING']\n",
      "[1. 0. 0. 0. 1. 0. 0. 0. 0. 0. 0. 0. 0. 1. 0. 0. 0. 0. 1. 0. 0. 0. 0. 0.\n",
      " 0. 0. 0. 0. 0. 1. 1. 0. 0. 1. 1. 1. 1.]\n",
      "[0. 0. 0. 0. 0. 0. 0. 0. 0. 0. 0. 0. 0. 0. 0. 0. 0. 0. 0. 0. 0. 0. 0. 0.\n",
      " 0. 0. 0. 0. 0. 1. 1. 1. 1. 1. 1. 1. 1.]\n",
      "[8.44821850e-01 3.42905999e-03 1.19944383e-01 7.60818011e-03\n",
      " 3.97401325e-01 2.74732713e-03 2.17279783e-04 2.71346013e-02\n",
      " 3.60592839e-03 1.45579282e-03 1.09320252e-03 8.37774671e-03\n",
      " 8.52813866e-02 5.20528679e-01 3.99038959e-02 4.62410684e-02\n",
      " 9.56954801e-03 1.59756270e-02 2.91253439e-01 1.85173102e-04\n",
      " 3.69508579e-04 2.10827426e-04 2.88960491e-03 2.32587705e-03\n",
      " 1.64609642e-02 2.85945674e-03 7.22945665e-04 2.06803468e-03\n",
      " 4.98573984e-04 2.83288481e-01 1.94164847e-01 5.09237992e-02\n",
      " 3.03944662e-02 8.29771334e-01 5.72144563e-01 6.90801357e-01\n",
      " 6.23159531e-01]\n",
      "['CHEN-YUYU', 'CHEN-ZHONGLIANG', 'CHENG-JINFEN', 'FU-LIHUA', 'HU-ZHUIFEI', 'JIA-XIANG', 'LIU-JIANLIN', 'LIU-SHENGXIU', 'MA-TAIYONG', 'WANG-JING', 'WANG-SHIQIANG', 'WU-TUANJIE', 'XIA-CHUNSAN', 'XU-ZHENNING', 'YU-HAO', 'ZHANG-CHANGJUN', 'ZHANG-JINGFENG', 'ZHANG-SUYING', 'ZHU-SHIPING', 'CAO-YANHUA', 'CHEN-WEIDONG', 'JI-WENHUA', 'JIA-GUOGUANG', 'JIANG-YONGQUAN', 'LI-DONGSHUI', 'LI-WANHUI', 'LI-ZHONG', 'ZHU-YAPING', 'ZHUANG-MUGEN', 'LU-YUEYING', 'MA-CHUANHONG', 'TENG-XINGHUA', 'YAO-YAO', 'YE-JIEMO', 'YUAN-YUAN', 'ZHU-GUOQING', 'ZHU-YUMING']\n",
      "[1. 0. 0. 0. 1. 0. 0. 0. 0. 0. 0. 0. 0. 1. 0. 0. 0. 0. 1. 0. 0. 0. 0. 0.\n",
      " 0. 0. 0. 0. 0. 1. 1. 0. 0. 1. 1. 1. 1.]\n",
      "[0. 0. 0. 0. 0. 0. 0. 0. 0. 0. 0. 0. 0. 0. 0. 0. 0. 0. 0. 0. 0. 0. 0. 0.\n",
      " 0. 0. 0. 0. 0. 1. 1. 1. 1. 1. 1. 1. 1.]\n",
      "[8.37199904e-01 3.42594400e-03 1.63376613e-01 7.66491409e-03\n",
      " 4.67961826e-01 2.76891962e-03 2.18536513e-04 2.20801910e-02\n",
      " 3.60592661e-03 1.46374934e-03 1.09234496e-03 8.37987598e-03\n",
      " 8.83121140e-02 5.18329714e-01 3.99038959e-02 4.97895827e-02\n",
      " 1.81441497e-02 1.59584236e-02 2.91253439e-01 1.85081479e-04\n",
      " 3.76502542e-04 2.10827426e-04 3.37006779e-03 2.33006761e-03\n",
      " 1.64609667e-02 2.85945674e-03 7.22715612e-04 2.06982149e-03\n",
      " 5.07949171e-04 2.82210053e-01 1.94164847e-01 3.08553123e-02\n",
      " 3.70017902e-02 8.28212843e-01 5.72144563e-01 6.89218024e-01\n",
      " 6.22478942e-01]\n",
      "['CHEN-YUYU', 'CHEN-ZHONGLIANG', 'CHENG-JINFEN', 'FU-LIHUA', 'HU-ZHUIFEI', 'JIA-XIANG', 'LIU-JIANLIN', 'LIU-SHENGXIU', 'MA-TAIYONG', 'WANG-JING', 'WANG-SHIQIANG', 'WU-TUANJIE', 'XIA-CHUNSAN', 'XU-ZHENNING', 'YU-HAO', 'ZHANG-CHANGJUN', 'ZHANG-JINGFENG', 'ZHANG-SUYING', 'ZHU-SHIPING', 'CAO-YANHUA', 'CHEN-WEIDONG', 'JI-WENHUA', 'JIA-GUOGUANG', 'JIANG-YONGQUAN', 'LI-DONGSHUI', 'LI-WANHUI', 'LI-ZHONG', 'ZHU-YAPING', 'ZHUANG-MUGEN', 'LU-YUEYING', 'MA-CHUANHONG', 'TENG-XINGHUA', 'YAO-YAO', 'YE-JIEMO', 'YUAN-YUAN', 'ZHU-GUOQING', 'ZHU-YUMING']\n",
      "[1. 0. 1. 0. 1. 0. 0. 0. 0. 0. 0. 0. 0. 1. 0. 0. 0. 0. 1. 0. 0. 0. 0. 0.\n",
      " 0. 0. 0. 0. 0. 1. 1. 0. 0. 1. 1. 1. 1.]\n",
      "[0. 0. 0. 0. 0. 0. 0. 0. 0. 0. 0. 0. 0. 0. 0. 0. 0. 0. 0. 0. 0. 0. 0. 0.\n",
      " 0. 0. 0. 0. 0. 1. 1. 1. 1. 1. 1. 1. 1.]\n"
     ]
    }
   ],
   "source": [
    "## \n",
    "def Find_Optimal_Cutoff(TPR, FPR, threshold):\n",
    "    y = TPR - FPR\n",
    "\n",
    "    Youden_index = np.argmax(y)  # Only the first occurrence is returned.\n",
    "\n",
    "    optimal_threshold = threshold[Youden_index]\n",
    "    point = [FPR[Youden_index], TPR[Youden_index]]\n",
    "    return optimal_threshold, point\n",
    "\n",
    "exp1_path = '/mnt/ExtData/pahsos/classification/log/s12_block64_maskedTrue_es50_2023-02-24T09:50:32/test/'\n",
    "exp2_path = '/mnt/ExtData/pahsos/classification/log/s12_block96_maskedTrue_es50_2023-02-09T09:11:18/test/'\n",
    "exp3_path = '/mnt/ExtData/pahsos/classification/log/s12_block128_maskedTrue_es50_2023-02-05T09:42:27/test/'\n",
    "exp4_path = '/mnt/ExtData/pahsos/classification/log/s12_block160_maskedTrue_es50_2023-02-13T22:47:06/test/'\n",
    "\n",
    "block_size = [64, 96, 128, 160]\n",
    "exps = [exp1_path, exp2_path, exp3_path, exp4_path]   \n",
    "\n",
    "given_thresh = 0.1596\n",
    "\n",
    "for exp_idx, experiment_name in enumerate(exps):\n",
    "    path = f'{experiment_name}test_block_pred.csv'\n",
    "    df = pd.read_csv(path)\n",
    "    name = np.array(df['name'])\n",
    "    label = np.array(df['label'])\n",
    "    pred = np.stack((df['pred0'], df['pred1'], df['pred2'], df['pred3'], df['pred4']), axis=1)\n",
    "    all = np.array(df)\n",
    "\n",
    "    avg_pred = np.mean(pred, axis=1)\n",
    "    patient_avg_pred_all = []\n",
    "    patient_label_all = []\n",
    "    patient_name_all = [] \n",
    "\n",
    "    for i in range(len(name)):\n",
    "        if i % 12 ==0:\n",
    "            patient_name = name[i]\n",
    "            patient_label_all.append(label[i])\n",
    "            # print(patient_name)\n",
    "            patient_name_all.append(patient_name)\n",
    "            patient_pred = 0\n",
    "        else:\n",
    "            assert name[i] == patient_name\n",
    "            patient_pred += avg_pred[i]\n",
    "\n",
    "            if i % 11 == 0:\n",
    "                patient_avg_pred = patient_pred / 12\n",
    "                patient_avg_pred_all.append(patient_avg_pred)\n",
    "\n",
    "    patient_label_all = np.array(patient_label_all)\n",
    "    patient_avg_pred_all = np.array(patient_avg_pred_all)\n",
    "\n",
    "    bi_patient_avg_pred_all = np.zeros_like(patient_avg_pred_all)\n",
    "    bi_patient_avg_pred_all[patient_avg_pred_all > given_thresh] = 1\n",
    "\n",
    "    acc = accuracy_score(patient_label_all, bi_patient_avg_pred_all)\n",
    "    f1 = f1_score(patient_label_all, bi_patient_avg_pred_all, zero_division=1)\n",
    "    pre = precision_score(patient_label_all, bi_patient_avg_pred_all, zero_division=1)\n",
    "    rec = recall_score(patient_label_all, bi_patient_avg_pred_all, zero_division=1)\n",
    "    confuse = confusion_matrix(patient_label_all, bi_patient_avg_pred_all, labels=[1,0])\n",
    "    spc = confuse[1, 1]/(confuse[0, 1] + confuse[1, 1])\n",
    "\n",
    "    auc = roc_auc_score(patient_label_all, patient_avg_pred_all)\n",
    "\n",
    "    fpr, tpr, threshold = roc_curve(patient_label_all, patient_avg_pred_all)\n",
    "    optimal_threshold, point = Find_Optimal_Cutoff(tpr, fpr, threshold)\n",
    "\n",
    "    print(patient_avg_pred_all)\n",
    "    print(patient_name_all)\n",
    "    print(bi_patient_avg_pred_all)\n",
    "    print(patient_label_all)\n",
    "\n",
    "\n",
    "    # f = open(f\"{save_path}resemble_patient.txt\",\"a\") \n",
    "    # f.write(f'auc, acc, pre, rec, spc, tp, fn, fp, tn, kappa, p0, pe, ci95, u\\r\\n')\n",
    "    # f.write(f'{auc}, {acc}, {pre}, {rec}, {spc}, {confuse[0, 0]}, {confuse[0, 1]}, {confuse[1, 0]}, {confuse[1, 1]}, {kappa}, {p0}, {pe}, {[ci95_lower, ci95_upper]}, {u}\\r\\n')\n",
    "    # f.close()\n",
    "    # print(f'auc : {auc}, acc : {acc}, rec : {rec}, spc : {spc}')\n",
    "    # print(f'{exp_idx}, {auc}, {acc}, {pre}, {rec}, {spc}, {confuse[0, 0]}, {confuse[0, 1]}, {confuse[1, 0]}, {confuse[1, 1]}')\n",
    "\n",
    "# f = open(f\"{save_path}resemble_patient.txt\",\"a\") \n",
    "# f.write(f'auc, acc, pre, rec, spc, tp, fn, fp, tn, kappa, p0, pe, ci95, u\\r\\n')\n",
    "# f.write(f'{auc}, {acc}, {pre}, {rec}, {spc}, {confuse[0, 0]}, {confuse[0, 1]}, {confuse[1, 0]}, {confuse[1, 1]}, {kappa}, {p0}, {pe}, {[ci95_lower, ci95_upper]}, {u}\\r\\n')\n",
    "# f.close()"
   ]
  },
  {
   "attachments": {},
   "cell_type": "markdown",
   "metadata": {},
   "source": [
    "### block level"
   ]
  },
  {
   "cell_type": "code",
   "execution_count": 6,
   "metadata": {},
   "outputs": [
    {
     "name": "stdout",
     "output_type": "stream",
     "text": [
      "0.5893037336024217\n",
      "auc : 0.8962823275862069, acc : 0.8513513513513513, rec : 0.75, spc : 0.9272727272727272\n"
     ]
    }
   ],
   "source": [
    "avg_pred = np.mean(pred, axis=1)\n",
    "\n",
    "bi_pred = np.zeros_like(avg_pred)\n",
    "bi_pred[avg_pred > 0.5] = 1\n",
    "\n",
    "acc = accuracy_score(label, bi_pred)\n",
    "f1 = f1_score(label, bi_pred, zero_division=1)\n",
    "pre = precision_score(label, bi_pred, zero_division=1)\n",
    "rec = recall_score(label, bi_pred, zero_division=1)\n",
    "confuse = confusion_matrix(label, bi_pred, labels=[1,0])\n",
    "spc = confuse[1, 1]/(confuse[0, 1] + confuse[1, 1])\n",
    "\n",
    "auc = roc_auc_score(label, avg_pred)\n",
    "\n",
    "# kappa\n",
    "total_num = confuse[0, 0] + confuse[1, 1] + confuse[0, 1] + confuse[1, 0]\n",
    "\n",
    "p0 = (confuse[0, 0] + confuse[1, 1]) / total_num\n",
    "pe = ((confuse[0, 0] + confuse[1, 0]) * (confuse[0, 0] + confuse[0, 1]) + (confuse[0, 1] + confuse[1, 1]) * (confuse[1, 0] + confuse[1, 1])) / (total_num * total_num)\n",
    "kappa = (p0 - pe) / (1 - pe)\n",
    "print(kappa)\n",
    "# kappa1 = cohen_kappa_score(bi_patient_avg_pred_all, patient_label_all)\n",
    "\n",
    "tmp = 1.96 * np.sqrt((p0)/(total_num*(1-p0)))\n",
    "ci95_upper = kappa + tmp\n",
    "ci95_lower = kappa - tmp\n",
    "\n",
    "u = kappa / (np.sqrt(p0 / total_num))\n",
    "\n",
    "print(f'auc : {auc}, acc : {acc}, rec : {rec}, spc : {spc}')\n",
    "\n",
    "# f = open(f\"{save_path}resemble_block.txt\",\"a\") \n",
    "# f.write(f'auc, acc, pre, rec, spc, tp, fp, fn, tn, kappa, p0, pe, ci95, u\\r\\n')\n",
    "# f.write(f'{auc}, {acc}, {pre}, {rec}, {spc}, {confuse[0, 0]}, {confuse[0, 1]}, {confuse[1, 0]}, {confuse[1, 1]}, {kappa}, {p0}, {pe}, {[ci95_lower, ci95_upper]}, {u}\\r\\n')\n",
    "# f.close()\n"
   ]
  },
  {
   "attachments": {},
   "cell_type": "markdown",
   "metadata": {},
   "source": [
    "### patient level"
   ]
  },
  {
   "cell_type": "code",
   "execution_count": 15,
   "metadata": {},
   "outputs": [
    {
     "name": "stdout",
     "output_type": "stream",
     "text": [
      "[1. 0. 0. 0. 1. 0. 0. 0. 0. 0. 0. 0. 0. 1. 0. 0. 0. 0. 1. 0. 0. 0. 0. 0.\n",
      " 0. 0. 0. 0. 0. 1. 1. 0. 0. 1. 1. 1. 1.]\n",
      "0.5612648221343873\n",
      "0.8318965517241379, 0.8378378378378378, 0.6, 0.75, 0.9259259259259259, 6, 2, 4, 25, 0.5612648221343873, 0.8378378378378378, 0.6303871439006574, [-0.17115557602478437, 1.293685220293559], 3.729827102168677\n"
     ]
    }
   ],
   "source": [
    "\n",
    "given_thresh = 0.1596\n",
    "avg_pred = np.mean(pred, axis=1)\n",
    "patient_avg_pred_all = []\n",
    "patient_label_all = []\n",
    "\n",
    "for i in range(len(name)):\n",
    "    if i % 12 ==0:\n",
    "        patient_name = name[i]\n",
    "        patient_label_all.append(label[i])\n",
    "        # print(patient_name)\n",
    "        patient_pred = 0\n",
    "    else:\n",
    "        assert name[i] == patient_name\n",
    "        patient_pred += avg_pred[i]\n",
    "\n",
    "        if i % 11 == 0:\n",
    "            patient_avg_pred = patient_pred / 12\n",
    "            patient_avg_pred_all.append(patient_avg_pred)\n",
    "\n",
    "patient_label_all = np.array(patient_label_all)\n",
    "patient_avg_pred_all = np.array(patient_avg_pred_all)\n",
    "\n",
    "bi_patient_avg_pred_all = np.zeros_like(patient_avg_pred_all)\n",
    "bi_patient_avg_pred_all[patient_avg_pred_all > given_thresh] = 1\n",
    "\n",
    "acc = accuracy_score(patient_label_all, bi_patient_avg_pred_all)\n",
    "f1 = f1_score(patient_label_all, bi_patient_avg_pred_all, zero_division=1)\n",
    "pre = precision_score(patient_label_all, bi_patient_avg_pred_all, zero_division=1)\n",
    "rec = recall_score(patient_label_all, bi_patient_avg_pred_all, zero_division=1)\n",
    "confuse = confusion_matrix(patient_label_all, bi_patient_avg_pred_all, labels=[1,0])\n",
    "spc = confuse[1, 1]/(confuse[0, 1] + confuse[1, 1])\n",
    "\n",
    "auc = roc_auc_score(patient_label_all, patient_avg_pred_all)\n",
    "print(bi_patient_avg_pred_all)\n",
    "# kappa\n",
    "total_num = confuse[0, 0] + confuse[1, 1] + confuse[0, 1] + confuse[1, 0]\n",
    "\n",
    "p0 = (confuse[0, 0] + confuse[1, 1]) / total_num\n",
    "pe = ((confuse[0, 0] + confuse[1, 0]) * (confuse[0, 0] + confuse[0, 1]) + (confuse[0, 1] + confuse[1, 1]) * (confuse[1, 0] + confuse[1, 1])) / (total_num * total_num)\n",
    "kappa = (p0 - pe) / (1 - pe)\n",
    "print(kappa)\n",
    "# kappa1 = cohen_kappa_score(bi_patient_avg_pred_all, patient_label_all)\n",
    "\n",
    "tmp = 1.96 * np.sqrt((p0)/(total_num*(1-p0)))\n",
    "ci95_upper = kappa + tmp\n",
    "ci95_lower = kappa - tmp\n",
    "\n",
    "u = kappa / (np.sqrt(p0 / total_num))\n",
    "\n",
    "# print(f'auc : {auc}, acc : {acc}, rec : {rec}, spc : {spc}')\n",
    "print(f'{auc}, {acc}, {pre}, {rec}, {spc}, {confuse[0, 0]}, {confuse[0, 1]}, {confuse[1, 0]}, {confuse[1, 1]}, {kappa}, {p0}, {pe}, {[ci95_lower, ci95_upper]}, {u}')\n",
    "\n",
    "# f = open(f\"{save_path}resemble_patient.txt\",\"a\") \n",
    "# f.write(f'auc, acc, pre, rec, spc, tp, fn, fp, tn, kappa, p0, pe, ci95, u\\r\\n')\n",
    "# f.write(f'{auc}, {acc}, {pre}, {rec}, {spc}, {confuse[0, 0]}, {confuse[0, 1]}, {confuse[1, 0]}, {confuse[1, 1]}, {kappa}, {p0}, {pe}, {[ci95_lower, ci95_upper]}, {u}\\r\\n')\n",
    "# f.close()"
   ]
  },
  {
   "attachments": {},
   "cell_type": "markdown",
   "metadata": {},
   "source": [
    "- find optimal thresh "
   ]
  },
  {
   "cell_type": "code",
   "execution_count": 75,
   "metadata": {},
   "outputs": [
    {
     "name": "stdout",
     "output_type": "stream",
     "text": [
      "[0.32       0.29166667 0.30434783 0.31818182 0.33333333 0.35\n",
      " 0.36842105 0.38888889 0.41176471 0.4375     0.46666667 0.5\n",
      " 0.46153846 0.5        0.54545455 0.6        0.55555556 0.5\n",
      " 0.57142857 0.66666667 0.6        0.5        0.33333333 0.5\n",
      " 1.         1.        ]\n",
      "[1.    0.875 0.875 0.875 0.875 0.875 0.875 0.875 0.875 0.875 0.875 0.875\n",
      " 0.75  0.75  0.75  0.75  0.625 0.5   0.5   0.5   0.375 0.25  0.125 0.125\n",
      " 0.125 0.   ]\n"
     ]
    },
    {
     "data": {
      "image/png": "[encoded data removed]",
      "text/plain": [
       "<Figure size 432x288 with 1 Axes>"
      ]
     },
     "metadata": {
      "needs_background": "light"
     },
     "output_type": "display_data"
    },
    {
     "data": {
      "text/plain": [
       "<Figure size 432x288 with 0 Axes>"
      ]
     },
     "metadata": {},
     "output_type": "display_data"
    }
   ],
   "source": [
    "precision, recall, thresholds = precision_recall_curve(patient_label_all, patient_avg_pred_all)\n",
    "print(precision)\n",
    "print(recall)\n",
    "plt.figure(1)\n",
    "plt.plot(recall, precision)\n",
    "plt.show()\n",
    "plt.savefig('{save_path}pr.png')"
   ]
  },
  {
   "cell_type": "code",
   "execution_count": 50,
   "metadata": {},
   "outputs": [
    {
     "name": "stdout",
     "output_type": "stream",
     "text": [
      "thresh : 0.010989986101333333, acc : 0.5135135135135135, rec : 0.875, spc : 0.9230769230769231\n",
      "thresh : 0.0124590186384275, acc : 0.5405405405405406, rec : 0.875, spc : 0.9285714285714286\n",
      "thresh : 0.013701435805855804, acc : 0.5675675675675675, rec : 0.875, spc : 0.9333333333333333\n",
      "thresh : 0.014336372891871408, acc : 0.5945945945945946, rec : 0.875, spc : 0.9375\n",
      "thresh : 0.014797821058195, acc : 0.6216216216216216, rec : 0.875, spc : 0.9411764705882353\n",
      "thresh : 0.020436322050554293, acc : 0.6486486486486487, rec : 0.875, spc : 0.9444444444444444\n",
      "thresh : 0.020499444339501415, acc : 0.6756756756756757, rec : 0.875, spc : 0.9473684210526315\n",
      "thresh : 0.024672326969999995, acc : 0.7027027027027027, rec : 0.875, spc : 0.95\n",
      "thresh : 0.026089381484600004, acc : 0.7297297297297297, rec : 0.875, spc : 0.9523809523809523\n",
      "thresh : 0.031004632668369735, acc : 0.7567567567567568, rec : 0.875, spc : 0.9545454545454546\n",
      "thresh : 0.03966271387060056, acc : 0.7837837837837838, rec : 0.875, spc : 0.9565217391304348\n",
      "thresh : 0.06458842903400001, acc : 0.7567567567567568, rec : 0.75, spc : 0.9166666666666666\n",
      "thresh : 0.06675930020790499, acc : 0.7837837837837838, rec : 0.75, spc : 0.92\n",
      "thresh : 0.07418385408507, acc : 0.8108108108108109, rec : 0.75, spc : 0.9230769230769231\n",
      "thresh : 0.11202511245, acc : 0.8378378378378378, rec : 0.75, spc : 0.9259259259259259\n",
      "thresh : 0.17607103933333335, acc : 0.8108108108108109, rec : 0.625, spc : 0.8928571428571429\n",
      "thresh : 0.2750394468333333, acc : 0.7837837837837838, rec : 0.5, spc : 0.8620689655172413\n",
      "thresh : 0.2826036403333333, acc : 0.8108108108108109, rec : 0.5, spc : 0.8666666666666667\n",
      "thresh : 0.34317798876605, acc : 0.8378378378378378, rec : 0.5, spc : 0.8709677419354839\n",
      "thresh : 0.4853903368233334, acc : 0.8108108108108109, rec : 0.375, spc : 0.84375\n",
      "thresh : 0.6034079263333334, acc : 0.7837837837837838, rec : 0.25, spc : 0.8181818181818182\n",
      "thresh : 0.6224875264999999, acc : 0.7567567567567568, rec : 0.125, spc : 0.7941176470588235\n",
      "thresh : 0.6700935705000001, acc : 0.7837837837837838, rec : 0.125, spc : 0.8\n",
      "thresh : 0.8145379856666667, acc : 0.8108108108108109, rec : 0.125, spc : 0.8055555555555556\n",
      "thresh : 0.8259193043333334, acc : 0.7837837837837838, rec : 0.0, spc : 0.7837837837837838\n"
     ]
    }
   ],
   "source": [
    "precision, recall, thresholds = precision_recall_curve(patient_label_all, patient_avg_pred_all)\n",
    "\n",
    "f = open(f\"{save_path}resemble_patient_optthresh.txt\",\"a\") \n",
    "f.write(f'thresh, auc, acc, pre, rec, spc, tp, fn, fp, tn, kappa, p0, pe, ci95, u\\r\\n')\n",
    "\n",
    "for i in range(thresholds.shape[0]):\n",
    "    try_thresh = thresholds[i]\n",
    "\n",
    "    opt_bi_pred = patient_avg_pred_all.copy()\n",
    "    opt_bi_pred[patient_avg_pred_all > try_thresh] = 1\n",
    "    opt_bi_pred[patient_avg_pred_all <= try_thresh] = 0\n",
    "\n",
    "    opt_acc = accuracy_score(patient_label_all, opt_bi_pred)\n",
    "    opt_f1 = f1_score(patient_label_all, opt_bi_pred, zero_division=1)\n",
    "    opt_pre = precision_score(patient_label_all, opt_bi_pred, zero_division=1)\n",
    "    opt_rec = recall_score(patient_label_all, opt_bi_pred, zero_division=1)\n",
    "    opt_confuse = confusion_matrix(patient_label_all, opt_bi_pred, labels=[1,0])\n",
    "    opt_spc = opt_confuse[1, 1]/(opt_confuse[0, 1] + opt_confuse[1, 1])\n",
    "    \n",
    "    auc = roc_auc_score(patient_label_all, patient_avg_pred_all)\n",
    "\n",
    "    # kappa\n",
    "    total_num = opt_confuse[0, 0] + opt_confuse[1, 1] + opt_confuse[0, 1] + opt_confuse[1, 0]\n",
    "\n",
    "    p0 = (opt_confuse[0, 0] + opt_confuse[1, 1]) / total_num\n",
    "    pe = ((opt_confuse[0, 0] + opt_confuse[1, 0]) * (opt_confuse[0, 0] + opt_confuse[0, 1]) + (opt_confuse[0, 1] + opt_confuse[1, 1]) * (opt_confuse[1, 0] + opt_confuse[1, 1])) / (total_num * total_num)\n",
    "    kappa = (p0 - pe) / (1 - pe)\n",
    "    # kappa1 = cohen_kappa_score(bi_patient_avg_pred_all, patient_label_all)\n",
    "\n",
    "    tmp = 1.96 * np.sqrt((p0)/(total_num*(1-p0)))\n",
    "    ci95_upper = kappa + tmp\n",
    "    ci95_lower = kappa - tmp\n",
    "\n",
    "    u = kappa / (np.sqrt(p0 / total_num))\n",
    "\n",
    "    print(f'thresh : {try_thresh}, acc : {opt_acc}, rec : {opt_rec}, spc : {opt_spc}')\n",
    "    f.write(f'{try_thresh}, {auc}, {opt_acc}, {opt_pre}, {opt_rec}, {opt_spc}, {opt_confuse[0, 0]}, {opt_confuse[0, 1]}, {opt_confuse[1, 0]}, {opt_confuse[1, 1]}, {kappa}, {p0}, {pe}, {[ci95_lower, ci95_upper]}, {u}\\r\\n')\n",
    "f.close()\n"
   ]
  },
  {
   "attachments": {},
   "cell_type": "markdown",
   "metadata": {},
   "source": [
    "## visualization"
   ]
  },
  {
   "cell_type": "code",
   "execution_count": 66,
   "metadata": {},
   "outputs": [],
   "source": [
    "import os\n",
    "import matplotlib.pyplot as plt\n",
    "import pandas as pd\n",
    "import glob\n",
    "from sklearn.metrics import auc, roc_curve\n",
    "\n",
    "exp1_path = '/mnt/ExtData/pahsos/classification/log/s12_block64_maskedTrue_es50_2023-02-24T09:50:32/test'\n",
    "exp2_path = '/mnt/ExtData/pahsos/classification/log/s12_block96_maskedTrue_es50_2023-02-09T09:11:18/test/'\n",
    "exp3_path = '/mnt/ExtData/pahsos/classification/log/s12_block128_maskedTrue_es50_2023-02-05T09:42:27/test/'\n",
    "exp4_path = '/mnt/ExtData/pahsos/classification/log/s12_block160_maskedTrue_es50_2023-02-13T22:47:06/test/'\n",
    "\n",
    "block_size = [64, 96, 128, 160]\n",
    "exps = [exp1_path, exp2_path, exp3_path, exp4_path]    \n",
    "color = ['orange', 'blue', 'green', 'red']\n"
   ]
  },
  {
   "attachments": {},
   "cell_type": "markdown",
   "metadata": {},
   "source": [
    "#### block level"
   ]
  },
  {
   "cell_type": "code",
   "execution_count": 64,
   "metadata": {},
   "outputs": [
    {
     "data": {
      "image/png": "[encoded data removed]",
      "text/plain": [
       "<Figure size 720x432 with 1 Axes>"
      ]
     },
     "metadata": {
      "needs_background": "light"
     },
     "output_type": "display_data"
    }
   ],
   "source": [
    "plt.figure(figsize=(10, 6))\n",
    "plt.title(f'ROC Curve of resemble block level evaluation', fontdict={\"family\": \"Times New Roman\", \"size\": 15})\n",
    "plt.plot([0, 1], [0, 1], lw=2, color='black', linestyle=\"--\")\n",
    "plt.xlabel('False positive rate', fontdict={\"family\": \"Times New Roman\", \"size\": 15})\n",
    "plt.ylabel('True positive rate', fontdict={\"family\": \"Times New Roman\", \"size\": 15})\n",
    "\n",
    "for i, path in enumerate(exps):\n",
    "    block_pred_info = pd.read_csv(os.path.join(path, 'test_block_pred.csv'))\n",
    "\n",
    "    label = block_pred_info['label']\n",
    "    pred = np.stack((block_pred_info['pred0'], block_pred_info['pred1'], block_pred_info['pred2'], block_pred_info['pred3'], block_pred_info['pred4']), axis=1)\n",
    "    avg_pred = np.mean(pred, axis=1)\n",
    "    fpr, tpr, _ = roc_curve(label, avg_pred)\n",
    "    plt.plot(fpr, tpr, lw=2, color=color[i], label=f'ROC curve of {block_size[i]} input (AUC = %0.2f)' % auc(fpr, tpr))\n",
    "\n",
    "    plt.grid()  # 在图中添加网格\n",
    "\n",
    "    plt.legend(loc=\"lower right\") \n",
    "plt.savefig(os.path.join('/mnt/ExtData/pahsos/classification/fig', f'5in1_ROC_blocklevel_resemble.jpg'), dpi=256)\n"
   ]
  },
  {
   "attachments": {},
   "cell_type": "markdown",
   "metadata": {},
   "source": [
    "### patient level"
   ]
  },
  {
   "cell_type": "code",
   "execution_count": 70,
   "metadata": {},
   "outputs": [
    {
     "data": {
      "image/png": "[encoded data removed]",
      "text/plain": [
       "<Figure size 720x432 with 1 Axes>"
      ]
     },
     "metadata": {
      "needs_background": "light"
     },
     "output_type": "display_data"
    }
   ],
   "source": [
    "plt.figure(figsize=(10, 6))\n",
    "plt.title(f'ROC Curve of resemble patient level evaluation', fontdict={\"family\": \"Times New Roman\", \"size\": 15})\n",
    "plt.plot([0, 1], [0, 1], lw=2, color='black', linestyle=\"--\")\n",
    "plt.xlabel('False positive rate', fontdict={\"family\": \"Times New Roman\", \"size\": 15})\n",
    "plt.ylabel('True positive rate', fontdict={\"family\": \"Times New Roman\", \"size\": 15})\n",
    "\n",
    "for j, path in enumerate(exps):\n",
    "    block_pred_info = pd.read_csv(os.path.join(path, 'test_block_pred.csv'))\n",
    "\n",
    "    label = block_pred_info['label']\n",
    "    pred = np.stack((block_pred_info['pred0'], block_pred_info['pred1'], block_pred_info['pred2'], block_pred_info['pred3'], block_pred_info['pred4']), axis=1)\n",
    "    \n",
    "    avg_pred = np.mean(pred, axis=1)\n",
    "    patient_avg_pred_all = []\n",
    "    patient_label_all = []\n",
    "\n",
    "    for i in range(len(name)):\n",
    "        if i % 12 ==0:\n",
    "            patient_name = name[i]\n",
    "            patient_label_all.append(label[i])\n",
    "            # print(patient_name)\n",
    "            patient_pred = 0\n",
    "        else:\n",
    "            assert name[i] == patient_name\n",
    "            patient_pred += avg_pred[i]\n",
    "\n",
    "            if i % 11 == 0:\n",
    "                patient_avg_pred = patient_pred / 12\n",
    "                patient_avg_pred_all.append(patient_avg_pred)\n",
    "\n",
    "    patient_label_all = np.array(patient_label_all)\n",
    "    patient_avg_pred_all = np.array(patient_avg_pred_all)\n",
    "\n",
    "    fpr, tpr, _ = roc_curve(patient_label_all, patient_avg_pred_all)\n",
    "    plt.plot(fpr, tpr, lw=2, color=color[j], label=f'ROC curve of {block_size[j]} input (AUC = %0.2f)' % auc(fpr, tpr))\n",
    "\n",
    "    plt.grid()  # 在图中添加网格\n",
    "\n",
    "    plt.legend(loc=\"lower right\") \n",
    "plt.savefig(os.path.join('/mnt/ExtData/pahsos/classification/fig', f'5in1_ROC_patientlevel_resemble.jpg'), dpi=256)\n"
   ]
  }
 ],
 "metadata": {
  "kernelspec": {
   "display_name": "trans",
   "language": "python",
   "name": "python3"
  },
  "language_info": {
   "codemirror_mode": {
    "name": "ipython",
    "version": 3
   },
   "file_extension": ".py",
   "mimetype": "text/x-python",
   "name": "python",
   "nbconvert_exporter": "python",
   "pygments_lexer": "ipython3",
   "version": "3.8.12"
  },
  "orig_nbformat": 4,
  "vscode": {
   "interpreter": {
    "hash": "dd74e1ed924431bb964b67f70ae361f41fe3ce1d1fd047a9341f8286508de5f0"
   }
  }
 },
 "nbformat": 4,
 "nbformat_minor": 2
}
